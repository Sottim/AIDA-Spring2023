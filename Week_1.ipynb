{
  "nbformat": 4,
  "nbformat_minor": 0,
  "metadata": {
    "colab": {
      "provenance": [],
      "authorship_tag": "ABX9TyPxi9NJy9XMXw7skzir31W6",
      "include_colab_link": true
    },
    "kernelspec": {
      "name": "python3",
      "display_name": "Python 3"
    },
    "language_info": {
      "name": "python"
    }
  },
  "cells": [
    {
      "cell_type": "markdown",
      "metadata": {
        "id": "view-in-github",
        "colab_type": "text"
      },
      "source": [
        "<a href=\"https://colab.research.google.com/github/Sottim/AIDA-Spring2023/blob/main/Week_1.ipynb\" target=\"_parent\"><img src=\"https://colab.research.google.com/assets/colab-badge.svg\" alt=\"Open In Colab\"/></a>"
      ]
    },
    {
      "cell_type": "code",
      "execution_count": null,
      "metadata": {
        "id": "QYnaG2T4l1e5",
        "colab": {
          "base_uri": "https://localhost:8080/"
        },
        "outputId": "55d0aed4-18fa-4597-a34d-7f2152b46cba"
      },
      "outputs": [
        {
          "output_type": "execute_result",
          "data": {
            "text/plain": [
              "2"
            ]
          },
          "metadata": {},
          "execution_count": 29
        }
      ],
      "source": [
        "# Addition \n",
        "1+1 "
      ]
    },
    {
      "cell_type": "code",
      "source": [
        "# Subtraction\n",
        "5-3"
      ],
      "metadata": {
        "colab": {
          "base_uri": "https://localhost:8080/"
        },
        "id": "t2rj-ox5nq2j",
        "outputId": "1750ff79-18c6-4c79-8b9a-e2566079e9eb"
      },
      "execution_count": null,
      "outputs": [
        {
          "output_type": "execute_result",
          "data": {
            "text/plain": [
              "2"
            ]
          },
          "metadata": {},
          "execution_count": 30
        }
      ]
    },
    {
      "cell_type": "code",
      "source": [
        "# Multiplication \n",
        "8*2"
      ],
      "metadata": {
        "colab": {
          "base_uri": "https://localhost:8080/"
        },
        "id": "jj2Z85-6n3Sw",
        "outputId": "a262ac0e-b9e9-4a2e-d22d-e5885cdcf5ad"
      },
      "execution_count": null,
      "outputs": [
        {
          "output_type": "execute_result",
          "data": {
            "text/plain": [
              "16"
            ]
          },
          "metadata": {},
          "execution_count": 31
        }
      ]
    },
    {
      "cell_type": "code",
      "source": [
        "# Division\n",
        "12/2"
      ],
      "metadata": {
        "colab": {
          "base_uri": "https://localhost:8080/"
        },
        "id": "gRfMu4cVoAi-",
        "outputId": "ff0d065d-750d-4ad5-9548-dc7aefb0e38f"
      },
      "execution_count": null,
      "outputs": [
        {
          "output_type": "execute_result",
          "data": {
            "text/plain": [
              "6.0"
            ]
          },
          "metadata": {},
          "execution_count": 32
        }
      ]
    },
    {
      "cell_type": "code",
      "source": [
        "#Quotient \n",
        "11/2\n"
      ],
      "metadata": {
        "colab": {
          "base_uri": "https://localhost:8080/"
        },
        "id": "1U2Zgd5voOwT",
        "outputId": "9828e25a-fcdc-47f6-ba54-f855e83203ef"
      },
      "execution_count": null,
      "outputs": [
        {
          "output_type": "execute_result",
          "data": {
            "text/plain": [
              "5.5"
            ]
          },
          "metadata": {},
          "execution_count": 33
        }
      ]
    },
    {
      "cell_type": "code",
      "source": [
        "#Remainder \n",
        "11 % 2"
      ],
      "metadata": {
        "colab": {
          "base_uri": "https://localhost:8080/"
        },
        "id": "4fz7jULooaDf",
        "outputId": "b3acfe68-9e99-43f3-ea5f-4928e7a315f6"
      },
      "execution_count": null,
      "outputs": [
        {
          "output_type": "execute_result",
          "data": {
            "text/plain": [
              "1"
            ]
          },
          "metadata": {},
          "execution_count": 34
        }
      ]
    },
    {
      "cell_type": "code",
      "source": [
        "#Cubes\n",
        "3**3"
      ],
      "metadata": {
        "colab": {
          "base_uri": "https://localhost:8080/"
        },
        "id": "jG65HNf8or71",
        "outputId": "191c5928-e171-483a-93cc-9762238ebe3e"
      },
      "execution_count": null,
      "outputs": [
        {
          "output_type": "execute_result",
          "data": {
            "text/plain": [
              "27"
            ]
          },
          "metadata": {},
          "execution_count": 35
        }
      ]
    },
    {
      "cell_type": "code",
      "source": [
        "# Greater than\n",
        "2 > 3"
      ],
      "metadata": {
        "colab": {
          "base_uri": "https://localhost:8080/"
        },
        "id": "qHNWgwN4o3qd",
        "outputId": "a030e7a3-9674-4d72-b10d-0633d067018a"
      },
      "execution_count": null,
      "outputs": [
        {
          "output_type": "execute_result",
          "data": {
            "text/plain": [
              "False"
            ]
          },
          "metadata": {},
          "execution_count": 36
        }
      ]
    },
    {
      "cell_type": "code",
      "source": [
        "# Compare 3 with itself\n",
        "# X = 3 is assignment \n",
        "3 == 3"
      ],
      "metadata": {
        "colab": {
          "base_uri": "https://localhost:8080/"
        },
        "id": "kuaRE8wUpgsh",
        "outputId": "f7ca2e75-91b0-44a8-c8c8-b38886c7fd53"
      },
      "execution_count": null,
      "outputs": [
        {
          "output_type": "execute_result",
          "data": {
            "text/plain": [
              "True"
            ]
          },
          "metadata": {},
          "execution_count": 37
        }
      ]
    },
    {
      "cell_type": "code",
      "source": [
        "# Let us take a object : Coke Can \n",
        "# Funtions : Activities eg. water, recycle, throw it\n",
        "# Defining a function : object.method\n",
        "# Python is a Object Oriented Programming (OOP)\n",
        "# eg. Objects --> Integer value, Floating value, Booleans\n"
      ],
      "metadata": {
        "id": "QSk60mwNpusc"
      },
      "execution_count": null,
      "outputs": []
    },
    {
      "cell_type": "code",
      "source": [
        "# Lists \n",
        "# Python looks at the square brackets. It is used in 2 cases: lists and \n",
        "x = [1,2,3,4]\n",
        "\n",
        "# Strings \n",
        "# Python looks at the inverted commas and treat it as STRING\n",
        "y = [\"Tushar\", \"Ram\", \"Tom\", \"Tim\"]\n",
        "z = \"It's a good day.\"\n",
        "\n",
        "# Mixed Lists\n",
        "ml = [\"Ram\", \"Shyam\", \"Tom\", 1,2,3]\n",
        "# Ram = 0, Shyam=1, Tom=2, 1=3, 2=4, 3=5 ---> Index No.\n",
        "\n",
        "# How many elements are there in the list y ?\n",
        "len(y) # When you have a function use circular brackets.\n",
        "ml[2] # This is the index so to find a location always use the square brackets.\n",
        "ml[0:2] # starting: ending-1\n",
        "#Print from Shyam to end\n",
        "ml[1:]\n",
        "#Print till Tom\n",
        "ml[:3]\n",
        "ml[1].upper()\n",
        "\n",
        "\n",
        "\n"
      ],
      "metadata": {
        "colab": {
          "base_uri": "https://localhost:8080/",
          "height": 35
        },
        "id": "BOCoJeH3rkRj",
        "outputId": "4a31d275-c432-4005-85c1-4d46fd49a291"
      },
      "execution_count": null,
      "outputs": [
        {
          "output_type": "execute_result",
          "data": {
            "text/plain": [
              "'SHYAM'"
            ],
            "application/vnd.google.colaboratory.intrinsic+json": {
              "type": "string"
            }
          },
          "metadata": {},
          "execution_count": 57
        }
      ]
    },
    {
      "cell_type": "code",
      "source": [
        "ml = [\"Ram\", \"Shyam\", \"Tom\", 1,2,3]\n",
        "print(ml[1].lower())\n"
      ],
      "metadata": {
        "colab": {
          "base_uri": "https://localhost:8080/"
        },
        "id": "F1qplEAdyKud",
        "outputId": "3945381d-dad9-4bcf-a791-5ce088eeb9ed"
      },
      "execution_count": null,
      "outputs": [
        {
          "output_type": "stream",
          "name": "stdout",
          "text": [
            "shyam\n"
          ]
        }
      ]
    },
    {
      "cell_type": "code",
      "source": [
        "1 + 1 \n",
        "print(1) + print (1)"
      ],
      "metadata": {
        "colab": {
          "base_uri": "https://localhost:8080/",
          "height": 217
        },
        "id": "q58ewugSy2y2",
        "outputId": "e57cbd34-ea98-43eb-ce0b-f25cbdf76648"
      },
      "execution_count": null,
      "outputs": [
        {
          "output_type": "stream",
          "name": "stdout",
          "text": [
            "1\n",
            "1\n"
          ]
        },
        {
          "output_type": "error",
          "ename": "TypeError",
          "evalue": "ignored",
          "traceback": [
            "\u001b[0;31m---------------------------------------------------------------------------\u001b[0m",
            "\u001b[0;31mTypeError\u001b[0m                                 Traceback (most recent call last)",
            "\u001b[0;32m<ipython-input-59-11a489dfec5f>\u001b[0m in \u001b[0;36m<module>\u001b[0;34m\u001b[0m\n\u001b[1;32m      1\u001b[0m \u001b[0;36m1\u001b[0m \u001b[0;34m+\u001b[0m \u001b[0;36m1\u001b[0m\u001b[0;34m\u001b[0m\u001b[0;34m\u001b[0m\u001b[0m\n\u001b[0;32m----> 2\u001b[0;31m \u001b[0mprint\u001b[0m\u001b[0;34m(\u001b[0m\u001b[0;36m1\u001b[0m\u001b[0;34m)\u001b[0m \u001b[0;34m+\u001b[0m \u001b[0mprint\u001b[0m \u001b[0;34m(\u001b[0m\u001b[0;36m1\u001b[0m\u001b[0;34m)\u001b[0m\u001b[0;34m\u001b[0m\u001b[0;34m\u001b[0m\u001b[0m\n\u001b[0m",
            "\u001b[0;31mTypeError\u001b[0m: unsupported operand type(s) for +: 'NoneType' and 'NoneType'"
          ]
        }
      ]
    },
    {
      "cell_type": "code",
      "source": [
        "# tuple\n",
        "# It is a Circular bracket. It is used in two cases : tuple and sequencing\n",
        "t1 = (1, 2, 3, \"Shyam\", \"Ram\", \"Shyam\")\n",
        "t1.index(\"Shyam\")\n",
        "t1.count(\"Shyam\")\n"
      ],
      "metadata": {
        "colab": {
          "base_uri": "https://localhost:8080/"
        },
        "id": "Xncq5iD7tIWl",
        "outputId": "7dac65c0-30fe-4e40-c106-f7d6d8600dfb"
      },
      "execution_count": null,
      "outputs": [
        {
          "output_type": "execute_result",
          "data": {
            "text/plain": [
              "2"
            ]
          },
          "metadata": {},
          "execution_count": 55
        }
      ]
    },
    {
      "cell_type": "code",
      "source": [
        "# Dictionary\n",
        "dict1 = {\"k1\": \"Hello Ashoka - Name Tag\", \"K2\": [\"Diamond\", \"Gold\", \"Silver\"]}\n",
        "dict1[\"k1\"] # indexing there doesnot work even though we are using square brackets\n",
        "# Dictionary works on mapping\n",
        "# For a dictionary we have to use curly brackets\n",
        "\n"
      ],
      "metadata": {
        "colab": {
          "base_uri": "https://localhost:8080/",
          "height": 35
        },
        "id": "iL7vREeMwM4m",
        "outputId": "9ef4a355-bb44-4606-e57e-002797eead40"
      },
      "execution_count": null,
      "outputs": [
        {
          "output_type": "execute_result",
          "data": {
            "text/plain": [
              "'Hello Ashoka - Name Tag'"
            ],
            "application/vnd.google.colaboratory.intrinsic+json": {
              "type": "string"
            }
          },
          "metadata": {},
          "execution_count": 63
        }
      ]
    },
    {
      "cell_type": "code",
      "source": [
        "# Numerical Python\n",
        "import numpy as np  # import the library called numpy which stands for numerical python\n",
        "x = np.linspace(0,10) # Python sees this as ([]) - numpy array\n",
        "\n",
        "#square and cube of x\n",
        "print(x**2)\n",
        "print('\\n')\n",
        "print(x**3)\n"
      ],
      "metadata": {
        "colab": {
          "base_uri": "https://localhost:8080/"
        },
        "id": "Cab60ovc0cxk",
        "outputId": "c58a7680-4b95-49a6-daa9-4f370c3989cd"
      },
      "execution_count": null,
      "outputs": [
        {
          "output_type": "stream",
          "name": "stdout",
          "text": [
            "[0.00000000e+00 4.16493128e-02 1.66597251e-01 3.74843815e-01\n",
            " 6.66389005e-01 1.04123282e+00 1.49937526e+00 2.04081633e+00\n",
            " 2.66555602e+00 3.37359434e+00 4.16493128e+00 5.03956685e+00\n",
            " 5.99750104e+00 7.03873386e+00 8.16326531e+00 9.37109538e+00\n",
            " 1.06622241e+01 1.20366514e+01 1.34943773e+01 1.50354019e+01\n",
            " 1.66597251e+01 1.83673469e+01 2.01582674e+01 2.20324865e+01\n",
            " 2.39900042e+01 2.60308205e+01 2.81549354e+01 3.03623490e+01\n",
            " 3.26530612e+01 3.50270721e+01 3.74843815e+01 4.00249896e+01\n",
            " 4.26488963e+01 4.53561016e+01 4.81466056e+01 5.10204082e+01\n",
            " 5.39775094e+01 5.70179092e+01 6.01416077e+01 6.33486047e+01\n",
            " 6.66389005e+01 7.00124948e+01 7.34693878e+01 7.70095793e+01\n",
            " 8.06330696e+01 8.43398584e+01 8.81299459e+01 9.20033319e+01\n",
            " 9.59600167e+01 1.00000000e+02]\n",
            "\n",
            "\n",
            "[0.00000000e+00 8.49985975e-03 6.79988780e-02 2.29496213e-01\n",
            " 5.43991024e-01 1.06248247e+00 1.83596971e+00 2.91545190e+00\n",
            " 4.35192819e+00 6.19639776e+00 8.49985975e+00 1.13133133e+01\n",
            " 1.46877577e+01 1.86741919e+01 2.33236152e+01 2.86870267e+01\n",
            " 3.48154255e+01 4.17598110e+01 4.95711821e+01 5.83005380e+01\n",
            " 6.79988780e+01 7.87172012e+01 9.05065066e+01 1.03417794e+02\n",
            " 1.17502061e+02 1.32810309e+02 1.49393535e+02 1.67302740e+02\n",
            " 1.86588921e+02 2.07303079e+02 2.29496213e+02 2.53219322e+02\n",
            " 2.78523404e+02 3.05459460e+02 3.34078488e+02 3.64431487e+02\n",
            " 3.96569457e+02 4.30543396e+02 4.66404304e+02 5.04203181e+02\n",
            " 5.43991024e+02 5.85818834e+02 6.29737609e+02 6.75798349e+02\n",
            " 7.24052053e+02 7.74549720e+02 8.27342349e+02 8.82480939e+02\n",
            " 9.40016490e+02 1.00000000e+03]\n"
          ]
        }
      ]
    },
    {
      "cell_type": "code",
      "source": [
        "# Plotting \n",
        "import matplotlib.pyplot as plt \n",
        "# matlab, plot, library, python plot\n",
        "y = x**3\n",
        "plt.plot(x,y)\n",
        "plt.title(\"Day1 at Ashoka\")\n",
        "plt.xlabel(\"this is X\")\n",
        "plt.ylabel(\"this is Y\");"
      ],
      "metadata": {
        "colab": {
          "base_uri": "https://localhost:8080/",
          "height": 295
        },
        "id": "cKqIDL8C2WjT",
        "outputId": "d38dea94-eeb9-4374-fb94-81ee6c978b14"
      },
      "execution_count": null,
      "outputs": [
        {
          "output_type": "display_data",
          "data": {
            "text/plain": [
              "<Figure size 432x288 with 1 Axes>"
            ],
            "image/png": "[encoded data removed]"
          },
          "metadata": {
            "needs_background": "light"
          }
        }
      ]
    },
    {
      "cell_type": "code",
      "source": [],
      "metadata": {
        "id": "LFENUsn14QVx"
      },
      "execution_count": null,
      "outputs": []
    }
  ]
}