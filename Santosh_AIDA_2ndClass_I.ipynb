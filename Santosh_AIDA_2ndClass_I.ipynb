{
  "nbformat": 4,
  "nbformat_minor": 0,
  "metadata": {
    "colab": {
      "provenance": [],
      "authorship_tag": "ABX9TyPQizqJdh7KRiG6gdCNx9GO",
      "include_colab_link": true
    },
    "kernelspec": {
      "name": "python3",
      "display_name": "Python 3"
    },
    "language_info": {
      "name": "python"
    }
  },
  "cells": [
    {
      "cell_type": "markdown",
      "metadata": {
        "id": "view-in-github",
        "colab_type": "text"
      },
      "source": [
        "<a href=\"https://colab.research.google.com/github/Sottim/AIDA-Spring2023/blob/main/Santosh_AIDA_2ndClass_I.ipynb\" target=\"_parent\"><img src=\"https://colab.research.google.com/assets/colab-badge.svg\" alt=\"Open In Colab\"/></a>"
      ]
    },
    {
      "cell_type": "code",
      "execution_count": null,
      "metadata": {
        "colab": {
          "base_uri": "https://localhost:8080/"
        },
        "id": "LzjK8c0wp0fp",
        "outputId": "94a5217c-2526-4997-e61e-430325b355d4"
      },
      "outputs": [
        {
          "output_type": "stream",
          "name": "stdout",
          "text": [
            "I am unhappy.\n",
            "This line gets printed irrespective of the if and else block.\n"
          ]
        }
      ],
      "source": [
        "#Let us start with IF, ELse, For, While \n",
        "x = 3;\n",
        "if x == 2:  # Make note of proper indentations.\n",
        "  y = x + 1\n",
        "  print(y)\n",
        "  print(\"I am learning about indentations in Python\")\n",
        "else:\n",
        "  print(\"I am unhappy.\")\n",
        "print(\"This line gets printed irrespective of the if and else block.\")\n"
      ]
    },
    {
      "cell_type": "code",
      "source": [
        "# Try to check if 7 is an odd number or not\n",
        "x = 7\n",
        "if x % 2 == 1:\n",
        "  print(\"Odd number\")\n",
        "else:\n",
        "  print(\"Even number\")"
      ],
      "metadata": {
        "colab": {
          "base_uri": "https://localhost:8080/"
        },
        "id": "ydAkg6yLp8Wd",
        "outputId": "58e9de02-2a1a-4503-b87f-5314daa5e3b2"
      },
      "execution_count": null,
      "outputs": [
        {
          "output_type": "stream",
          "name": "stdout",
          "text": [
            "Odd number\n"
          ]
        }
      ]
    },
    {
      "cell_type": "code",
      "source": [
        "# Check that the length of word is even or odd.\n",
        "name = \"Santosh\"\n",
        "length = len(name)\n",
        "if length % 2 == 1:\n",
        "  print(\"Length of name is odd.\")\n",
        "else:\n",
        "  print(\"length of name is even.\")\n"
      ],
      "metadata": {
        "colab": {
          "base_uri": "https://localhost:8080/"
        },
        "id": "FrK5Dpx9sTZV",
        "outputId": "4eb9a09a-6377-4b52-dc8b-f4c5ba8938bf"
      },
      "execution_count": null,
      "outputs": [
        {
          "output_type": "stream",
          "name": "stdout",
          "text": [
            "Length of name is odd.\n"
          ]
        }
      ]
    },
    {
      "cell_type": "code",
      "source": [
        "# Add 2 the length of your name and check if the new number is even\n",
        "name = \"Santosh\"\n",
        "length = len(name)\n",
        "newL = length + 2\n",
        "if newL % 2 == 1:\n",
        "  print(\"Length is odd.\")\n",
        "else:\n",
        "  print(\"length is even.\")\n",
        "\n"
      ],
      "metadata": {
        "colab": {
          "base_uri": "https://localhost:8080/"
        },
        "id": "FXgq6NN9tODs",
        "outputId": "d231bd71-e211-405c-f7ca-0e5961a2cb37"
      },
      "execution_count": null,
      "outputs": [
        {
          "output_type": "stream",
          "name": "stdout",
          "text": [
            "Length is odd.\n"
          ]
        }
      ]
    },
    {
      "cell_type": "code",
      "source": [
        "x = list(range(0, 10))\n",
        "print(x)\n",
        "# check which numbers are odd\n",
        "for shivani in x:\n",
        "  if shivani % 2 == 0:\n",
        "    print(shivani, \"even\")\n",
        "  else: \n",
        "    print(shivani, \"odd\")\n"
      ],
      "metadata": {
        "colab": {
          "base_uri": "https://localhost:8080/"
        },
        "id": "3MDxKQ3TuMZz",
        "outputId": "9f9a93d0-4c31-4b16-9f70-274e9cd135b2"
      },
      "execution_count": null,
      "outputs": [
        {
          "output_type": "stream",
          "name": "stdout",
          "text": [
            "[0, 1, 2, 3, 4, 5, 6, 7, 8, 9]\n",
            "0 even\n",
            "1 odd\n",
            "2 even\n",
            "3 odd\n",
            "4 even\n",
            "5 odd\n",
            "6 even\n",
            "7 odd\n",
            "8 even\n",
            "9 odd\n"
          ]
        }
      ]
    },
    {
      "cell_type": "code",
      "source": [
        "x = []\n",
        "x.append(2)\n",
        "x"
      ],
      "metadata": {
        "colab": {
          "base_uri": "https://localhost:8080/"
        },
        "id": "cqgaXF8VuTYB",
        "outputId": "3b176027-c2fe-4d86-dc2f-438e8d6e1132"
      },
      "execution_count": null,
      "outputs": [
        {
          "output_type": "execute_result",
          "data": {
            "text/plain": [
              "[2]"
            ]
          },
          "metadata": {},
          "execution_count": 25
        }
      ]
    },
    {
      "cell_type": "code",
      "source": [
        "#From a list of number 0 to 9\n",
        "#Create an Even list and an odd list with the numbers\n",
        "x = list(range(0, 10))\n",
        "a =[]\n",
        "b =[]\n",
        "for input in x:\n",
        "  if input % 2 == 0:\n",
        "    a.append(input)\n",
        "  else:\n",
        "    b.append(input)\n",
        "print(\"even\", a)\n",
        "print(\"odd\", b)\n"
      ],
      "metadata": {
        "colab": {
          "base_uri": "https://localhost:8080/"
        },
        "id": "vir0eJc7wQuY",
        "outputId": "bfc57354-f1e6-422c-f81f-848066a16409"
      },
      "execution_count": null,
      "outputs": [
        {
          "output_type": "stream",
          "name": "stdout",
          "text": [
            "even [0, 2, 4, 6, 8]\n",
            "odd [1, 3, 5, 7, 9]\n"
          ]
        }
      ]
    },
    {
      "cell_type": "code",
      "source": [
        "# check the vowels in your name\n",
        "name = \"Santosh\"\n",
        "y = name.lower()\n",
        "vowel = []\n",
        "for i in name:\n",
        "  if i == \"a\":\n",
        "    vowel.append(\"a\")\n",
        "  elif i == \"e\":\n",
        "    vowel.append(\"e\")\n",
        "  elif i == \"i\":\n",
        "    vowel.append(\"i\")\n",
        "  elif i == \"o\":\n",
        "    vowel.append(\"o\")\n",
        "  elif i == \"u\":\n",
        "    vowel.append(\"u\")\n",
        "  else:\n",
        "    pass\n",
        "# Print in the set form.\n",
        "print(set(vowel))\n",
        "print(len(vowel))\n",
        "print(vowel)\n",
        "\n",
        "print(\"Vowels in\", name, \"are : \", vowel)\n",
        "\n",
        "  "
      ],
      "metadata": {
        "colab": {
          "base_uri": "https://localhost:8080/"
        },
        "id": "mAw__1M-w4WO",
        "outputId": "830dc234-2813-4fff-a3f2-d780ae03e7d1"
      },
      "execution_count": null,
      "outputs": [
        {
          "output_type": "stream",
          "name": "stdout",
          "text": [
            "{'o', 'a'}\n",
            "2\n",
            "['a', 'o']\n",
            "Vowels in Santosh are :  ['a', 'o']\n"
          ]
        }
      ]
    },
    {
      "cell_type": "code",
      "source": [
        "# While Loop\n",
        "x = 3\n",
        "while x<4:\n",
        "  print(\"Good night\")\n",
        "  x = x + 1"
      ],
      "metadata": {
        "colab": {
          "base_uri": "https://localhost:8080/"
        },
        "id": "rkuvti060a4P",
        "outputId": "262663e5-2d84-4025-d215-b9fe895522b8"
      },
      "execution_count": null,
      "outputs": [
        {
          "output_type": "stream",
          "name": "stdout",
          "text": [
            "Good night\n"
          ]
        }
      ]
    },
    {
      "cell_type": "code",
      "source": [],
      "metadata": {
        "id": "ja3cxwot20IG"
      },
      "execution_count": null,
      "outputs": []
    }
  ]
}