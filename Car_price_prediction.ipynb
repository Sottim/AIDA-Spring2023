{
  "cells": [
    {
      "cell_type": "markdown",
      "metadata": {
        "id": "view-in-github",
        "colab_type": "text"
      },
      "source": [
        "<a href=\"https://colab.research.google.com/github/Sottim/AIDA-Spring2023/blob/main/Car_price_prediction.ipynb\" target=\"_parent\"><img src=\"https://colab.research.google.com/assets/colab-badge.svg\" alt=\"Open In Colab\"/></a>"
      ]
    },
    {
      "cell_type": "code",
      "execution_count": null,
      "metadata": {
        "id": "3_WVRyXR6e-J",
        "outputId": "0b07911e-66ef-4baf-f1b5-abcda884ef11"
      },
      "outputs": [
        {
          "name": "stdout",
          "output_type": "stream",
          "text": [
            "Requirement already satisfied: Datetime in c:\\users\\ch\\anaconda3\\lib\\site-packages (4.5)\n",
            "Requirement already satisfied: zope.interface in c:\\users\\ch\\anaconda3\\lib\\site-packages (from Datetime) (4.7.1)\n",
            "Requirement already satisfied: pytz in c:\\users\\ch\\anaconda3\\lib\\site-packages (from Datetime) (2020.1)\n",
            "Requirement already satisfied: setuptools in c:\\users\\ch\\anaconda3\\lib\\site-packages (from zope.interface->Datetime) (49.2.0.post20200714)\n",
            "Note: you may need to restart the kernel to use updated packages.\n"
          ]
        }
      ],
      "source": [
        "pip install Datetime\n"
      ]
    },
    {
      "cell_type": "code",
      "execution_count": null,
      "metadata": {
        "id": "Ut8eRG0z6e-M"
      },
      "outputs": [],
      "source": [
        "#display of warnings\n",
        "import warnings\n",
        "warnings.filterwarnings(\"ignore\")\n",
        "\n",
        "import pandas as pd\n",
        "\n",
        "import numpy as np\n",
        "\n",
        "import matplotlib.pyplot as plt\n",
        "\n",
        "import seaborn as sns\n",
        "\n",
        "#for performing regression\n",
        "#randomforest is a bagging forest, it reduces the variance\n",
        "from sklearn.ensemble import RandomForestRegressor\n",
        "#randomizedsearchcv is used to find best parameters\n",
        "from sklearn.model_selection import RandomizedSearchCV\n",
        "#extratreeregerros is used to find the best feature, bagging process\n",
        "from sklearn.ensemble import ExtraTreesRegressor\n",
        "#split into training part and testing part\n",
        "from sklearn.model_selection import train_test_split\n",
        "from sklearn.ensemble import ExtraTreesRegressor\n",
        "from sklearn.linear_model import LinearRegression\n",
        "#to perform xgboost\n",
        "from xgboost import XGBRegressor\n",
        "#importing metrics for tabulating the result\n",
        "from sklearn.metrics import mean_squared_log_error\n",
        "\n",
        "#all of the output will have a standard size of 15,8\n",
        "plt.rcParams[\"figure.figsize\"] = [15,8]"
      ]
    },
    {
      "cell_type": "code",
      "execution_count": null,
      "metadata": {
        "id": "WaA9RzC36e-N"
      },
      "outputs": [],
      "source": [
        "df = pd.read_csv(\"car_price_train.csv\")\n",
        "df_test = pd.read_csv(\"test.csv\")\n"
      ]
    },
    {
      "cell_type": "code",
      "execution_count": null,
      "metadata": {
        "id": "Rg7A1t1Z6e-O",
        "outputId": "542411c6-36a6-4315-de35-3f522d858a42"
      },
      "outputs": [
        {
          "data": {
            "text/html": [
              "<div>\n",
              "<style scoped>\n",
              "    .dataframe tbody tr th:only-of-type {\n",
              "        vertical-align: middle;\n",
              "    }\n",
              "\n",
              "    .dataframe tbody tr th {\n",
              "        vertical-align: top;\n",
              "    }\n",
              "\n",
              "    .dataframe thead th {\n",
              "        text-align: right;\n",
              "    }\n",
              "</style>\n",
              "<table border=\"1\" class=\"dataframe\">\n",
              "  <thead>\n",
              "    <tr style=\"text-align: right;\">\n",
              "      <th></th>\n",
              "      <th>ID</th>\n",
              "      <th>Price</th>\n",
              "      <th>Levy</th>\n",
              "      <th>Manufacturer</th>\n",
              "      <th>Model</th>\n",
              "      <th>Prod. year</th>\n",
              "      <th>Category</th>\n",
              "      <th>Leather interior</th>\n",
              "      <th>Fuel type</th>\n",
              "      <th>Engine volume</th>\n",
              "      <th>Mileage</th>\n",
              "      <th>Cylinders</th>\n",
              "      <th>Gear box type</th>\n",
              "      <th>Drive wheels</th>\n",
              "      <th>Doors</th>\n",
              "      <th>Wheel</th>\n",
              "      <th>Color</th>\n",
              "      <th>Airbags</th>\n",
              "    </tr>\n",
              "  </thead>\n",
              "  <tbody>\n",
              "    <tr>\n",
              "      <th>0</th>\n",
              "      <td>45654403</td>\n",
              "      <td>13328</td>\n",
              "      <td>1399</td>\n",
              "      <td>LEXUS</td>\n",
              "      <td>RX 450</td>\n",
              "      <td>2010</td>\n",
              "      <td>Jeep</td>\n",
              "      <td>Yes</td>\n",
              "      <td>Hybrid</td>\n",
              "      <td>3.5</td>\n",
              "      <td>186005 km</td>\n",
              "      <td>6.0</td>\n",
              "      <td>Automatic</td>\n",
              "      <td>4x4</td>\n",
              "      <td>04-May</td>\n",
              "      <td>Left wheel</td>\n",
              "      <td>Silver</td>\n",
              "      <td>12</td>\n",
              "    </tr>\n",
              "    <tr>\n",
              "      <th>1</th>\n",
              "      <td>44731507</td>\n",
              "      <td>16621</td>\n",
              "      <td>1018</td>\n",
              "      <td>CHEVROLET</td>\n",
              "      <td>Equinox</td>\n",
              "      <td>2011</td>\n",
              "      <td>Jeep</td>\n",
              "      <td>No</td>\n",
              "      <td>Petrol</td>\n",
              "      <td>3</td>\n",
              "      <td>192000 km</td>\n",
              "      <td>6.0</td>\n",
              "      <td>Tiptronic</td>\n",
              "      <td>4x4</td>\n",
              "      <td>04-May</td>\n",
              "      <td>Left wheel</td>\n",
              "      <td>Black</td>\n",
              "      <td>8</td>\n",
              "    </tr>\n",
              "    <tr>\n",
              "      <th>2</th>\n",
              "      <td>45774419</td>\n",
              "      <td>8467</td>\n",
              "      <td>-</td>\n",
              "      <td>HONDA</td>\n",
              "      <td>FIT</td>\n",
              "      <td>2006</td>\n",
              "      <td>Hatchback</td>\n",
              "      <td>No</td>\n",
              "      <td>Petrol</td>\n",
              "      <td>1.3</td>\n",
              "      <td>200000 km</td>\n",
              "      <td>4.0</td>\n",
              "      <td>Variator</td>\n",
              "      <td>Front</td>\n",
              "      <td>04-May</td>\n",
              "      <td>Right-hand drive</td>\n",
              "      <td>Black</td>\n",
              "      <td>2</td>\n",
              "    </tr>\n",
              "    <tr>\n",
              "      <th>3</th>\n",
              "      <td>45769185</td>\n",
              "      <td>3607</td>\n",
              "      <td>862</td>\n",
              "      <td>FORD</td>\n",
              "      <td>Escape</td>\n",
              "      <td>2011</td>\n",
              "      <td>Jeep</td>\n",
              "      <td>Yes</td>\n",
              "      <td>Hybrid</td>\n",
              "      <td>2.5</td>\n",
              "      <td>168966 km</td>\n",
              "      <td>4.0</td>\n",
              "      <td>Automatic</td>\n",
              "      <td>4x4</td>\n",
              "      <td>04-May</td>\n",
              "      <td>Left wheel</td>\n",
              "      <td>White</td>\n",
              "      <td>0</td>\n",
              "    </tr>\n",
              "    <tr>\n",
              "      <th>4</th>\n",
              "      <td>45809263</td>\n",
              "      <td>11726</td>\n",
              "      <td>446</td>\n",
              "      <td>HONDA</td>\n",
              "      <td>FIT</td>\n",
              "      <td>2014</td>\n",
              "      <td>Hatchback</td>\n",
              "      <td>Yes</td>\n",
              "      <td>Petrol</td>\n",
              "      <td>1.3</td>\n",
              "      <td>91901 km</td>\n",
              "      <td>4.0</td>\n",
              "      <td>Automatic</td>\n",
              "      <td>Front</td>\n",
              "      <td>04-May</td>\n",
              "      <td>Left wheel</td>\n",
              "      <td>Silver</td>\n",
              "      <td>4</td>\n",
              "    </tr>\n",
              "  </tbody>\n",
              "</table>\n",
              "</div>"
            ],
            "text/plain": [
              "         ID  Price  Levy Manufacturer    Model  Prod. year   Category  \\\n",
              "0  45654403  13328  1399        LEXUS   RX 450        2010       Jeep   \n",
              "1  44731507  16621  1018    CHEVROLET  Equinox        2011       Jeep   \n",
              "2  45774419   8467     -        HONDA      FIT        2006  Hatchback   \n",
              "3  45769185   3607   862         FORD   Escape        2011       Jeep   \n",
              "4  45809263  11726   446        HONDA      FIT        2014  Hatchback   \n",
              "\n",
              "  Leather interior Fuel type Engine volume    Mileage  Cylinders  \\\n",
              "0              Yes    Hybrid           3.5  186005 km        6.0   \n",
              "1               No    Petrol             3  192000 km        6.0   \n",
              "2               No    Petrol           1.3  200000 km        4.0   \n",
              "3              Yes    Hybrid           2.5  168966 km        4.0   \n",
              "4              Yes    Petrol           1.3   91901 km        4.0   \n",
              "\n",
              "  Gear box type Drive wheels   Doors             Wheel   Color  Airbags  \n",
              "0     Automatic          4x4  04-May        Left wheel  Silver       12  \n",
              "1     Tiptronic          4x4  04-May        Left wheel   Black        8  \n",
              "2      Variator        Front  04-May  Right-hand drive   Black        2  \n",
              "3     Automatic          4x4  04-May        Left wheel   White        0  \n",
              "4     Automatic        Front  04-May        Left wheel  Silver        4  "
            ]
          },
          "execution_count": 4,
          "metadata": {},
          "output_type": "execute_result"
        }
      ],
      "source": [
        "df.head()"
      ]
    },
    {
      "cell_type": "code",
      "execution_count": null,
      "metadata": {
        "id": "Zi2bdt726e-P",
        "outputId": "9fb04208-952a-4c23-81d8-f1cb09309754"
      },
      "outputs": [
        {
          "data": {
            "text/plain": [
              "(19237, 18)"
            ]
          },
          "execution_count": 5,
          "metadata": {},
          "output_type": "execute_result"
        }
      ],
      "source": [
        "df.shape"
      ]
    },
    {
      "cell_type": "code",
      "execution_count": null,
      "metadata": {
        "id": "6hukB2Zz6e-P",
        "outputId": "5aec70ec-2c95-4371-81c7-6084e46c0132"
      },
      "outputs": [
        {
          "data": {
            "text/html": [
              "<div>\n",
              "<style scoped>\n",
              "    .dataframe tbody tr th:only-of-type {\n",
              "        vertical-align: middle;\n",
              "    }\n",
              "\n",
              "    .dataframe tbody tr th {\n",
              "        vertical-align: top;\n",
              "    }\n",
              "\n",
              "    .dataframe thead th {\n",
              "        text-align: right;\n",
              "    }\n",
              "</style>\n",
              "<table border=\"1\" class=\"dataframe\">\n",
              "  <thead>\n",
              "    <tr style=\"text-align: right;\">\n",
              "      <th></th>\n",
              "      <th>ID</th>\n",
              "      <th>Levy</th>\n",
              "      <th>Manufacturer</th>\n",
              "      <th>Model</th>\n",
              "      <th>Prod. year</th>\n",
              "      <th>Category</th>\n",
              "      <th>Leather interior</th>\n",
              "      <th>Fuel type</th>\n",
              "      <th>Engine volume</th>\n",
              "      <th>Mileage</th>\n",
              "      <th>Cylinders</th>\n",
              "      <th>Gear box type</th>\n",
              "      <th>Drive wheels</th>\n",
              "      <th>Doors</th>\n",
              "      <th>Wheel</th>\n",
              "      <th>Color</th>\n",
              "      <th>Airbags</th>\n",
              "      <th>Price</th>\n",
              "    </tr>\n",
              "  </thead>\n",
              "  <tbody>\n",
              "    <tr>\n",
              "      <th>0</th>\n",
              "      <td>44020629</td>\n",
              "      <td>-</td>\n",
              "      <td>VOLKSWAGEN</td>\n",
              "      <td>Golf</td>\n",
              "      <td>2012</td>\n",
              "      <td>Hatchback</td>\n",
              "      <td>No</td>\n",
              "      <td>Diesel</td>\n",
              "      <td>2.0 Turbo</td>\n",
              "      <td>0 km</td>\n",
              "      <td>4</td>\n",
              "      <td>Manual</td>\n",
              "      <td>Front</td>\n",
              "      <td>02-Mar</td>\n",
              "      <td>Left wheel</td>\n",
              "      <td>Grey</td>\n",
              "      <td>10</td>\n",
              "      <td>NaN</td>\n",
              "    </tr>\n",
              "    <tr>\n",
              "      <th>1</th>\n",
              "      <td>45784798</td>\n",
              "      <td>-</td>\n",
              "      <td>HYUNDAI</td>\n",
              "      <td>Sonata</td>\n",
              "      <td>2012</td>\n",
              "      <td>Sedan</td>\n",
              "      <td>Yes</td>\n",
              "      <td>Petrol</td>\n",
              "      <td>2.4</td>\n",
              "      <td>26000 km</td>\n",
              "      <td>4</td>\n",
              "      <td>Tiptronic</td>\n",
              "      <td>Front</td>\n",
              "      <td>04-May</td>\n",
              "      <td>Left wheel</td>\n",
              "      <td>Grey</td>\n",
              "      <td>10</td>\n",
              "      <td>NaN</td>\n",
              "    </tr>\n",
              "    <tr>\n",
              "      <th>2</th>\n",
              "      <td>45800257</td>\n",
              "      <td>-</td>\n",
              "      <td>NISSAN</td>\n",
              "      <td>Tiida</td>\n",
              "      <td>2005</td>\n",
              "      <td>Sedan</td>\n",
              "      <td>No</td>\n",
              "      <td>Petrol</td>\n",
              "      <td>1.5</td>\n",
              "      <td>168000 km</td>\n",
              "      <td>4</td>\n",
              "      <td>Automatic</td>\n",
              "      <td>Front</td>\n",
              "      <td>04-May</td>\n",
              "      <td>Right-hand drive</td>\n",
              "      <td>Sky blue</td>\n",
              "      <td>8</td>\n",
              "      <td>NaN</td>\n",
              "    </tr>\n",
              "    <tr>\n",
              "      <th>3</th>\n",
              "      <td>45797981</td>\n",
              "      <td>975</td>\n",
              "      <td>VOLVO</td>\n",
              "      <td>XC90</td>\n",
              "      <td>2012</td>\n",
              "      <td>Jeep</td>\n",
              "      <td>Yes</td>\n",
              "      <td>Petrol</td>\n",
              "      <td>3.2</td>\n",
              "      <td>143000 km</td>\n",
              "      <td>6</td>\n",
              "      <td>Automatic</td>\n",
              "      <td>4x4</td>\n",
              "      <td>04-May</td>\n",
              "      <td>Left wheel</td>\n",
              "      <td>Blue</td>\n",
              "      <td>12</td>\n",
              "      <td>NaN</td>\n",
              "    </tr>\n",
              "    <tr>\n",
              "      <th>4</th>\n",
              "      <td>45814303</td>\n",
              "      <td>-</td>\n",
              "      <td>OPEL</td>\n",
              "      <td>Astra</td>\n",
              "      <td>1993</td>\n",
              "      <td>Hatchback</td>\n",
              "      <td>No</td>\n",
              "      <td>Petrol</td>\n",
              "      <td>1.6</td>\n",
              "      <td>200000 km</td>\n",
              "      <td>4</td>\n",
              "      <td>Manual</td>\n",
              "      <td>Front</td>\n",
              "      <td>04-May</td>\n",
              "      <td>Left wheel</td>\n",
              "      <td>Black</td>\n",
              "      <td>0</td>\n",
              "      <td>NaN</td>\n",
              "    </tr>\n",
              "  </tbody>\n",
              "</table>\n",
              "</div>"
            ],
            "text/plain": [
              "         ID Levy Manufacturer   Model  Prod. year   Category Leather interior  \\\n",
              "0  44020629    -   VOLKSWAGEN    Golf        2012  Hatchback               No   \n",
              "1  45784798    -      HYUNDAI  Sonata        2012      Sedan              Yes   \n",
              "2  45800257    -       NISSAN   Tiida        2005      Sedan               No   \n",
              "3  45797981  975        VOLVO    XC90        2012       Jeep              Yes   \n",
              "4  45814303    -         OPEL   Astra        1993  Hatchback               No   \n",
              "\n",
              "  Fuel type Engine volume    Mileage  Cylinders Gear box type Drive wheels  \\\n",
              "0    Diesel     2.0 Turbo       0 km          4        Manual        Front   \n",
              "1    Petrol           2.4   26000 km          4     Tiptronic        Front   \n",
              "2    Petrol           1.5  168000 km          4     Automatic        Front   \n",
              "3    Petrol           3.2  143000 km          6     Automatic          4x4   \n",
              "4    Petrol           1.6  200000 km          4        Manual        Front   \n",
              "\n",
              "    Doors             Wheel     Color  Airbags  Price  \n",
              "0  02-Mar        Left wheel      Grey       10    NaN  \n",
              "1  04-May        Left wheel      Grey       10    NaN  \n",
              "2  04-May  Right-hand drive  Sky blue        8    NaN  \n",
              "3  04-May        Left wheel      Blue       12    NaN  \n",
              "4  04-May        Left wheel     Black        0    NaN  "
            ]
          },
          "execution_count": 6,
          "metadata": {},
          "output_type": "execute_result"
        }
      ],
      "source": [
        "df_test.head()"
      ]
    },
    {
      "cell_type": "code",
      "execution_count": null,
      "metadata": {
        "id": "ahGrHsof6e-Q"
      },
      "outputs": [],
      "source": [
        "#test data and normal data will always be same despite the price"
      ]
    },
    {
      "cell_type": "code",
      "execution_count": null,
      "metadata": {
        "id": "EOkKZcdP6e-Q",
        "outputId": "464ee30d-0a1b-443a-938c-a053eb91ce9e"
      },
      "outputs": [
        {
          "data": {
            "text/plain": [
              "(19237, 18)"
            ]
          },
          "execution_count": 8,
          "metadata": {},
          "output_type": "execute_result"
        }
      ],
      "source": [
        "df.shape\n"
      ]
    },
    {
      "cell_type": "code",
      "execution_count": null,
      "metadata": {
        "id": "vd0gytx06e-R"
      },
      "outputs": [],
      "source": [
        "y = df[\"Price\"]"
      ]
    },
    {
      "cell_type": "code",
      "execution_count": null,
      "metadata": {
        "id": "QwVW5qwS6e-R"
      },
      "outputs": [],
      "source": [
        "#merging the sets together so that both can be done together\n",
        "df = df.drop([\"Price\"], axis = 1) #dropping col of price, axis=1 == column \n",
        "df_test = df_test.drop([\"Price\"], axis = 1) #drop the price col\n",
        "df_merge = df.append(df_test) #appeding df with dftest\n",
        "df_merge.reset_index(inplace = True)  #inplace = true means that whatever are being replaced will reflect\n",
        "df_merge = df_merge.drop([\"index\"], axis = 1)"
      ]
    },
    {
      "cell_type": "code",
      "execution_count": null,
      "metadata": {
        "id": "Pqq9B6Ey6e-S",
        "outputId": "b25f93d1-1fb5-47e3-ab4e-0ff19962941c"
      },
      "outputs": [
        {
          "data": {
            "text/plain": [
              "(19237, 17)"
            ]
          },
          "execution_count": 11,
          "metadata": {},
          "output_type": "execute_result"
        }
      ],
      "source": [
        "df.shape"
      ]
    },
    {
      "cell_type": "code",
      "execution_count": null,
      "metadata": {
        "id": "kwjp6cds6e-T",
        "outputId": "8ca919ef-aa13-4103-e1ca-3d046aecde84"
      },
      "outputs": [
        {
          "data": {
            "text/plain": [
              "(27482, 17)"
            ]
          },
          "execution_count": 12,
          "metadata": {},
          "output_type": "execute_result"
        }
      ],
      "source": [
        "df_merge.shape"
      ]
    },
    {
      "cell_type": "code",
      "execution_count": null,
      "metadata": {
        "id": "7URqpdTo6e-T",
        "outputId": "f5f1075e-6739-4836-e5a8-2d15ca5cfe12"
      },
      "outputs": [
        {
          "data": {
            "text/html": [
              "<div>\n",
              "<style scoped>\n",
              "    .dataframe tbody tr th:only-of-type {\n",
              "        vertical-align: middle;\n",
              "    }\n",
              "\n",
              "    .dataframe tbody tr th {\n",
              "        vertical-align: top;\n",
              "    }\n",
              "\n",
              "    .dataframe thead th {\n",
              "        text-align: right;\n",
              "    }\n",
              "</style>\n",
              "<table border=\"1\" class=\"dataframe\">\n",
              "  <thead>\n",
              "    <tr style=\"text-align: right;\">\n",
              "      <th></th>\n",
              "      <th>DataTypes</th>\n",
              "      <th>Unique_values</th>\n",
              "    </tr>\n",
              "  </thead>\n",
              "  <tbody>\n",
              "    <tr>\n",
              "      <th>ID</th>\n",
              "      <td>int64</td>\n",
              "      <td>26886</td>\n",
              "    </tr>\n",
              "    <tr>\n",
              "      <th>Levy</th>\n",
              "      <td>object</td>\n",
              "      <td>635</td>\n",
              "    </tr>\n",
              "    <tr>\n",
              "      <th>Manufacturer</th>\n",
              "      <td>object</td>\n",
              "      <td>68</td>\n",
              "    </tr>\n",
              "    <tr>\n",
              "      <th>Model</th>\n",
              "      <td>object</td>\n",
              "      <td>1981</td>\n",
              "    </tr>\n",
              "    <tr>\n",
              "      <th>Prod. year</th>\n",
              "      <td>int64</td>\n",
              "      <td>59</td>\n",
              "    </tr>\n",
              "    <tr>\n",
              "      <th>Category</th>\n",
              "      <td>object</td>\n",
              "      <td>11</td>\n",
              "    </tr>\n",
              "    <tr>\n",
              "      <th>Leather interior</th>\n",
              "      <td>object</td>\n",
              "      <td>2</td>\n",
              "    </tr>\n",
              "    <tr>\n",
              "      <th>Fuel type</th>\n",
              "      <td>object</td>\n",
              "      <td>7</td>\n",
              "    </tr>\n",
              "    <tr>\n",
              "      <th>Engine volume</th>\n",
              "      <td>object</td>\n",
              "      <td>112</td>\n",
              "    </tr>\n",
              "    <tr>\n",
              "      <th>Mileage</th>\n",
              "      <td>object</td>\n",
              "      <td>9977</td>\n",
              "    </tr>\n",
              "    <tr>\n",
              "      <th>Cylinders</th>\n",
              "      <td>float64</td>\n",
              "      <td>16</td>\n",
              "    </tr>\n",
              "    <tr>\n",
              "      <th>Gear box type</th>\n",
              "      <td>object</td>\n",
              "      <td>4</td>\n",
              "    </tr>\n",
              "    <tr>\n",
              "      <th>Drive wheels</th>\n",
              "      <td>object</td>\n",
              "      <td>3</td>\n",
              "    </tr>\n",
              "    <tr>\n",
              "      <th>Doors</th>\n",
              "      <td>object</td>\n",
              "      <td>3</td>\n",
              "    </tr>\n",
              "    <tr>\n",
              "      <th>Wheel</th>\n",
              "      <td>object</td>\n",
              "      <td>2</td>\n",
              "    </tr>\n",
              "    <tr>\n",
              "      <th>Color</th>\n",
              "      <td>object</td>\n",
              "      <td>16</td>\n",
              "    </tr>\n",
              "    <tr>\n",
              "      <th>Airbags</th>\n",
              "      <td>int64</td>\n",
              "      <td>17</td>\n",
              "    </tr>\n",
              "  </tbody>\n",
              "</table>\n",
              "</div>"
            ],
            "text/plain": [
              "                 DataTypes  Unique_values\n",
              "ID                   int64          26886\n",
              "Levy                object            635\n",
              "Manufacturer        object             68\n",
              "Model               object           1981\n",
              "Prod. year           int64             59\n",
              "Category            object             11\n",
              "Leather interior    object              2\n",
              "Fuel type           object              7\n",
              "Engine volume       object            112\n",
              "Mileage             object           9977\n",
              "Cylinders          float64             16\n",
              "Gear box type       object              4\n",
              "Drive wheels        object              3\n",
              "Doors               object              3\n",
              "Wheel               object              2\n",
              "Color               object             16\n",
              "Airbags              int64             17"
            ]
          },
          "execution_count": 13,
          "metadata": {},
          "output_type": "execute_result"
        }
      ],
      "source": [
        "#checking the dtypes and unique values\n",
        "info = pd.DataFrame()\n",
        "info[\"DataTypes\"] = df_merge.dtypes\n",
        "info[\"Unique_values\"] = df_merge.nunique()\n",
        "info"
      ]
    },
    {
      "cell_type": "code",
      "execution_count": null,
      "metadata": {
        "id": "29kmenFy6e-U",
        "outputId": "4086f74c-4a57-40e5-c0b1-c55227b0fd8b"
      },
      "outputs": [
        {
          "data": {
            "text/html": [
              "<div>\n",
              "<style scoped>\n",
              "    .dataframe tbody tr th:only-of-type {\n",
              "        vertical-align: middle;\n",
              "    }\n",
              "\n",
              "    .dataframe tbody tr th {\n",
              "        vertical-align: top;\n",
              "    }\n",
              "\n",
              "    .dataframe thead th {\n",
              "        text-align: right;\n",
              "    }\n",
              "</style>\n",
              "<table border=\"1\" class=\"dataframe\">\n",
              "  <thead>\n",
              "    <tr style=\"text-align: right;\">\n",
              "      <th></th>\n",
              "      <th>Levy</th>\n",
              "      <th>Manufacturer</th>\n",
              "      <th>Model</th>\n",
              "      <th>Category</th>\n",
              "      <th>Leather interior</th>\n",
              "      <th>Fuel type</th>\n",
              "      <th>Engine volume</th>\n",
              "      <th>Mileage</th>\n",
              "      <th>Gear box type</th>\n",
              "      <th>Drive wheels</th>\n",
              "      <th>Doors</th>\n",
              "      <th>Wheel</th>\n",
              "      <th>Color</th>\n",
              "    </tr>\n",
              "  </thead>\n",
              "  <tbody>\n",
              "    <tr>\n",
              "      <th>count</th>\n",
              "      <td>27482</td>\n",
              "      <td>27482</td>\n",
              "      <td>27482</td>\n",
              "      <td>27482</td>\n",
              "      <td>27482</td>\n",
              "      <td>27482</td>\n",
              "      <td>27482</td>\n",
              "      <td>27482</td>\n",
              "      <td>27482</td>\n",
              "      <td>27482</td>\n",
              "      <td>27482</td>\n",
              "      <td>27482</td>\n",
              "      <td>27482</td>\n",
              "    </tr>\n",
              "    <tr>\n",
              "      <th>unique</th>\n",
              "      <td>635</td>\n",
              "      <td>68</td>\n",
              "      <td>1981</td>\n",
              "      <td>11</td>\n",
              "      <td>2</td>\n",
              "      <td>7</td>\n",
              "      <td>112</td>\n",
              "      <td>9977</td>\n",
              "      <td>4</td>\n",
              "      <td>3</td>\n",
              "      <td>3</td>\n",
              "      <td>2</td>\n",
              "      <td>16</td>\n",
              "    </tr>\n",
              "    <tr>\n",
              "      <th>top</th>\n",
              "      <td>-</td>\n",
              "      <td>HYUNDAI</td>\n",
              "      <td>Sonata</td>\n",
              "      <td>Sedan</td>\n",
              "      <td>Yes</td>\n",
              "      <td>Petrol</td>\n",
              "      <td>2</td>\n",
              "      <td>0 km</td>\n",
              "      <td>Automatic</td>\n",
              "      <td>Front</td>\n",
              "      <td>04-May</td>\n",
              "      <td>Left wheel</td>\n",
              "      <td>Black</td>\n",
              "    </tr>\n",
              "    <tr>\n",
              "      <th>freq</th>\n",
              "      <td>8273</td>\n",
              "      <td>5358</td>\n",
              "      <td>1557</td>\n",
              "      <td>12534</td>\n",
              "      <td>19926</td>\n",
              "      <td>14492</td>\n",
              "      <td>5587</td>\n",
              "      <td>1013</td>\n",
              "      <td>19296</td>\n",
              "      <td>18374</td>\n",
              "      <td>26173</td>\n",
              "      <td>25384</td>\n",
              "      <td>7196</td>\n",
              "    </tr>\n",
              "  </tbody>\n",
              "</table>\n",
              "</div>"
            ],
            "text/plain": [
              "         Levy Manufacturer   Model Category Leather interior Fuel type  \\\n",
              "count   27482        27482   27482    27482            27482     27482   \n",
              "unique    635           68    1981       11                2         7   \n",
              "top         -      HYUNDAI  Sonata    Sedan              Yes    Petrol   \n",
              "freq     8273         5358    1557    12534            19926     14492   \n",
              "\n",
              "       Engine volume Mileage Gear box type Drive wheels   Doors       Wheel  \\\n",
              "count          27482   27482         27482        27482   27482       27482   \n",
              "unique           112    9977             4            3       3           2   \n",
              "top                2    0 km     Automatic        Front  04-May  Left wheel   \n",
              "freq            5587    1013         19296        18374   26173       25384   \n",
              "\n",
              "        Color  \n",
              "count   27482  \n",
              "unique     16  \n",
              "top     Black  \n",
              "freq     7196  "
            ]
          },
          "execution_count": 14,
          "metadata": {},
          "output_type": "execute_result"
        }
      ],
      "source": [
        "df_merge.describe(include= \"object\")"
      ]
    },
    {
      "cell_type": "code",
      "execution_count": null,
      "metadata": {
        "id": "8Ipqmq3y6e-U",
        "outputId": "3a04d74f-c745-4725-91bd-ae9576f9532e"
      },
      "outputs": [
        {
          "data": {
            "text/html": [
              "<div>\n",
              "<style scoped>\n",
              "    .dataframe tbody tr th:only-of-type {\n",
              "        vertical-align: middle;\n",
              "    }\n",
              "\n",
              "    .dataframe tbody tr th {\n",
              "        vertical-align: top;\n",
              "    }\n",
              "\n",
              "    .dataframe thead th {\n",
              "        text-align: right;\n",
              "    }\n",
              "</style>\n",
              "<table border=\"1\" class=\"dataframe\">\n",
              "  <thead>\n",
              "    <tr style=\"text-align: right;\">\n",
              "      <th></th>\n",
              "      <th>ID</th>\n",
              "      <th>Prod. year</th>\n",
              "      <th>Cylinders</th>\n",
              "      <th>Airbags</th>\n",
              "    </tr>\n",
              "  </thead>\n",
              "  <tbody>\n",
              "    <tr>\n",
              "      <th>count</th>\n",
              "      <td>2.748200e+04</td>\n",
              "      <td>27482.000000</td>\n",
              "      <td>27482.000000</td>\n",
              "      <td>27482.000000</td>\n",
              "    </tr>\n",
              "    <tr>\n",
              "      <th>mean</th>\n",
              "      <td>4.557857e+07</td>\n",
              "      <td>2010.912452</td>\n",
              "      <td>4.593734</td>\n",
              "      <td>6.563569</td>\n",
              "    </tr>\n",
              "    <tr>\n",
              "      <th>std</th>\n",
              "      <td>9.244972e+05</td>\n",
              "      <td>5.632865</td>\n",
              "      <td>1.413918</td>\n",
              "      <td>4.329256</td>\n",
              "    </tr>\n",
              "    <tr>\n",
              "      <th>min</th>\n",
              "      <td>2.074688e+07</td>\n",
              "      <td>1939.000000</td>\n",
              "      <td>1.000000</td>\n",
              "      <td>0.000000</td>\n",
              "    </tr>\n",
              "    <tr>\n",
              "      <th>25%</th>\n",
              "      <td>4.569808e+07</td>\n",
              "      <td>2009.000000</td>\n",
              "      <td>4.000000</td>\n",
              "      <td>4.000000</td>\n",
              "    </tr>\n",
              "    <tr>\n",
              "      <th>50%</th>\n",
              "      <td>4.577207e+07</td>\n",
              "      <td>2012.000000</td>\n",
              "      <td>4.000000</td>\n",
              "      <td>6.000000</td>\n",
              "    </tr>\n",
              "    <tr>\n",
              "      <th>75%</th>\n",
              "      <td>4.580197e+07</td>\n",
              "      <td>2015.000000</td>\n",
              "      <td>4.000000</td>\n",
              "      <td>12.000000</td>\n",
              "    </tr>\n",
              "    <tr>\n",
              "      <th>max</th>\n",
              "      <td>4.581665e+07</td>\n",
              "      <td>2020.000000</td>\n",
              "      <td>127.000000</td>\n",
              "      <td>16.000000</td>\n",
              "    </tr>\n",
              "  </tbody>\n",
              "</table>\n",
              "</div>"
            ],
            "text/plain": [
              "                 ID    Prod. year     Cylinders       Airbags\n",
              "count  2.748200e+04  27482.000000  27482.000000  27482.000000\n",
              "mean   4.557857e+07   2010.912452      4.593734      6.563569\n",
              "std    9.244972e+05      5.632865      1.413918      4.329256\n",
              "min    2.074688e+07   1939.000000      1.000000      0.000000\n",
              "25%    4.569808e+07   2009.000000      4.000000      4.000000\n",
              "50%    4.577207e+07   2012.000000      4.000000      6.000000\n",
              "75%    4.580197e+07   2015.000000      4.000000     12.000000\n",
              "max    4.581665e+07   2020.000000    127.000000     16.000000"
            ]
          },
          "execution_count": 15,
          "metadata": {},
          "output_type": "execute_result"
        }
      ],
      "source": [
        "df_merge.describe(include = np.number) #numeric dtypes"
      ]
    },
    {
      "cell_type": "markdown",
      "metadata": {
        "id": "GF7j6zVU6e-U"
      },
      "source": [
        "# Rectifying data"
      ]
    },
    {
      "cell_type": "code",
      "execution_count": null,
      "metadata": {
        "id": "wwjBU_kO6e-k"
      },
      "outputs": [],
      "source": [
        "#removing the \"km\" from the mileage column and coverting it to float\n",
        "df_merge[\"Mileage\"] = pd.to_numeric(df_merge.Mileage.str.split(\" \").str[0], downcast = \"float\")  "
      ]
    },
    {
      "cell_type": "code",
      "execution_count": null,
      "metadata": {
        "id": "2dLPk0_z6e-k"
      },
      "outputs": [],
      "source": [
        "#np.where is used to replace with a particular value\n",
        "k = df_merge[df_merge[\"Mileage\"] == 0]"
      ]
    },
    {
      "cell_type": "code",
      "execution_count": null,
      "metadata": {
        "id": "mXSXzdQ96e-l",
        "outputId": "349c380a-2119-4a0a-f09f-bd16ae5d7630"
      },
      "outputs": [
        {
          "data": {
            "text/plain": [
              "(1013, 17)"
            ]
          },
          "execution_count": 18,
          "metadata": {},
          "output_type": "execute_result"
        }
      ],
      "source": [
        "k.shape #df_merge has got both test and train values"
      ]
    },
    {
      "cell_type": "code",
      "execution_count": null,
      "metadata": {
        "id": "hH51ZlOZ6e-l"
      },
      "outputs": [],
      "source": [
        "df_merge[\"Mileage\"] = np.where(df_merge[\"Mileage\"] == 0.0, df_merge[\"Mileage\"].mean(), df_merge[\"Mileage\"])\n",
        "#whenever df_merge [\"mileage \"] == 0 we replace it with the mean and the rest without 0 we keep the mileage"
      ]
    },
    {
      "cell_type": "code",
      "execution_count": null,
      "metadata": {
        "id": "ZQNjW9C86e-m"
      },
      "outputs": [],
      "source": []
    },
    {
      "cell_type": "code",
      "execution_count": null,
      "metadata": {
        "id": "9SHADJbJ6e-m"
      },
      "outputs": [],
      "source": []
    },
    {
      "cell_type": "code",
      "execution_count": null,
      "metadata": {
        "id": "ST2Hnzhx6e-m"
      },
      "outputs": [],
      "source": []
    },
    {
      "cell_type": "code",
      "execution_count": null,
      "metadata": {
        "id": "grL1UNiu6e-n",
        "outputId": "8bd1cbc6-b257-47e7-fb74-648a4a3095c9"
      },
      "outputs": [
        {
          "data": {
            "text/plain": [
              "array(['1399', '1018', '-', '862', '446', '891', '761', '751', '394',\n",
              "       '1053', '1055', '1079', '810', '2386', '1850', '531', '586',\n",
              "       '1249', '2455', '583', '1537', '1288', '915', '1750', '707',\n",
              "       '1077', '1486', '1091', '650', '382', '1436', '1194', '503',\n",
              "       '1017', '1104', '639', '629', '919', '781', '530', '640', '765',\n",
              "       '777', '779', '934', '769', '645', '1185', '1324', '830', '1187',\n",
              "       '1111', '760', '642', '1604', '1095', '966', '473', '1138', '1811',\n",
              "       '988', '917', '1156', '687', '11714', '836', '1347', '2866',\n",
              "       '1646', '259', '609', '697', '585', '475', '690', '308', '1823',\n",
              "       '1361', '1273', '924', '584', '2078', '831', '1172', '893', '1872',\n",
              "       '1885', '1266', '447', '2148', '1730', '730', '289', '502', '333',\n",
              "       '1325', '247', '879', '1342', '1327', '1598', '1514', '1058',\n",
              "       '738', '1935', '481', '1522', '1282', '456', '880', '900', '798',\n",
              "       '1277', '442', '1051', '790', '1292', '1047', '528', '1211',\n",
              "       '1493', '1793', '574', '930', '1998', '271', '706', '1481', '1677',\n",
              "       '1661', '1286', '1408', '1090', '595', '1451', '1267', '993',\n",
              "       '1714', '878', '641', '749', '1511', '603', '353', '877', '1236',\n",
              "       '1141', '397', '784', '1024', '1357', '1301', '770', '922', '1438',\n",
              "       '753', '607', '1363', '638', '490', '431', '565', '517', '833',\n",
              "       '489', '1760', '986', '1841', '1620', '1360', '474', '1099', '978',\n",
              "       '1624', '1946', '1268', '1307', '696', '649', '666', '2151', '551',\n",
              "       '800', '971', '1323', '2377', '1845', '1083', '694', '463', '419',\n",
              "       '345', '1515', '1505', '2056', '1203', '729', '460', '1356', '876',\n",
              "       '911', '1190', '780', '448', '2410', '1848', '1148', '834', '1275',\n",
              "       '1028', '1197', '724', '890', '1705', '505', '789', '2959', '518',\n",
              "       '461', '1719', '2858', '3156', '2225', '2177', '1968', '1888',\n",
              "       '1308', '2736', '1103', '557', '2195', '843', '1664', '723',\n",
              "       '4508', '562', '501', '2018', '1076', '1202', '3301', '691',\n",
              "       '1440', '1869', '1178', '418', '1820', '1413', '488', '1304',\n",
              "       '363', '2108', '521', '1659', '87', '1411', '1528', '3292', '7058',\n",
              "       '1578', '627', '874', '1996', '1488', '5679', '1234', '5603',\n",
              "       '400', '889', '3268', '875', '949', '2265', '441', '742', '425',\n",
              "       '2476', '2971', '614', '1816', '1375', '1405', '2297', '1062',\n",
              "       '1113', '420', '2469', '658', '1951', '2670', '2578', '1995',\n",
              "       '1032', '994', '1011', '2421', '1296', '155', '494', '426', '1086',\n",
              "       '961', '2236', '1829', '764', '1834', '1054', '617', '1529',\n",
              "       '2266', '637', '626', '1832', '1016', '2002', '1756', '746',\n",
              "       '1285', '2690', '1118', '5332', '980', '1807', '970', '1228',\n",
              "       '1195', '1132', '1768', '1384', '1080', '7063', '1817', '1452',\n",
              "       '1975', '1368', '702', '1974', '1781', '1036', '944', '663', '364',\n",
              "       '1539', '1345', '1680', '2209', '741', '1575', '695', '1317',\n",
              "       '294', '1525', '424', '997', '1473', '1552', '2819', '2188',\n",
              "       '1668', '3057', '799', '1502', '2606', '552', '1694', '1759',\n",
              "       '1110', '399', '1470', '1174', '5877', '1474', '1688', '526',\n",
              "       '686', '5908', '1107', '2070', '1468', '1246', '1685', '556',\n",
              "       '1533', '1917', '1346', '732', '692', '579', '421', '362', '3505',\n",
              "       '1855', '2711', '1586', '3739', '681', '1708', '2278', '1701',\n",
              "       '722', '1482', '928', '827', '832', '527', '604', '173', '1341',\n",
              "       '3329', '1553', '859', '167', '916', '828', '2082', '1176', '1108',\n",
              "       '975', '3008', '1516', '2269', '1699', '2073', '1031', '1503',\n",
              "       '2364', '1030', '1442', '5666', '2715', '1437', '2067', '1426',\n",
              "       '2908', '1279', '866', '4283', '279', '2658', '3015', '2004',\n",
              "       '1391', '4736', '748', '1466', '644', '683', '2705', '1297', '731',\n",
              "       '1252', '2216', '3141', '3273', '1518', '1723', '1588', '972',\n",
              "       '682', '1094', '668', '175', '967', '402', '3894', '1960', '1599',\n",
              "       '2000', '2084', '1621', '714', '1109', '3989', '873', '1572',\n",
              "       '1163', '1991', '1716', '1673', '2562', '2874', '965', '462',\n",
              "       '605', '1948', '1736', '3518', '2054', '2467', '1681', '1272',\n",
              "       '1205', '750', '2156', '2566', '115', '524', '3184', '676', '1678',\n",
              "       '612', '328', '955', '1441', '1675', '3965', '2909', '623', '822',\n",
              "       '867', '3025', '1993', '792', '636', '4057', '3743', '2337',\n",
              "       '2570', '2418', '2472', '3910', '1662', '2123', '2628', '3208',\n",
              "       '2080', '3699', '2913', '864', '2505', '870', '7536', '1924',\n",
              "       '1671', '1064', '1836', '1866', '4741', '841', '1369', '5681',\n",
              "       '3112', '1366', '2223', '1198', '1039', '3811', '3571', '1387',\n",
              "       '1171', '1365', '1531', '1590', '11706', '2308', '4860', '1641',\n",
              "       '1045', '1901', '1883', '1613', '4746', '3061', '2547', '3258',\n",
              "       '7528', '2317', '1846', '3005', '2802', '1545', '2096', '2625',\n",
              "       '1526', '1721', '437', '818', '1364', '1168', '2132', '3515',\n",
              "       '771', '4514', '1844', '914', '923', '1830', '2553', '2008', '977',\n",
              "       '2969', '4053', '1594', '1415', '1698', '5220', '1254', '1747',\n",
              "       '3718', '2643', '1044', '4735', '1555', '5668', '582', '2390',\n",
              "       '238', '1040', '835', '763', '2040', '1696', '1837', '1614',\n",
              "       '1519', '2800', '1035', '2528', '4739', '1271', '1359', '2488',\n",
              "       '2235', '2052', '1226', '4159', '2068', '2243', '2504', '1762',\n",
              "       '3592', '1899', '704', '2373', '884'], dtype=object)"
            ]
          },
          "execution_count": 20,
          "metadata": {},
          "output_type": "execute_result"
        }
      ],
      "source": [
        "df_merge[\"Levy\"].unique()"
      ]
    },
    {
      "cell_type": "raw",
      "metadata": {
        "id": "6pBNdhsJ6e-n"
      },
      "source": []
    },
    {
      "cell_type": "code",
      "execution_count": null,
      "metadata": {
        "id": "6j4zOJQB6e-n"
      },
      "outputs": [],
      "source": [
        "#converting the levy col to float as it is the tax\n",
        "df_merge[\"Levy\"] = pd.to_numeric(df_merge[\"Levy\"].replace(\"-\", 0), downcast = \"float\")"
      ]
    },
    {
      "cell_type": "code",
      "execution_count": null,
      "metadata": {
        "id": "2Vf6xq_j6e-t"
      },
      "outputs": [],
      "source": [
        "#replacing the 0 in the \"Levy\" column with mean of that coumn\n",
        "df_merge[\"Levy\"] = np.where(df_merge[\"Levy\"] == 0.0, df_merge[\"Levy\"].mean(), df_merge[\"Levy\"])"
      ]
    },
    {
      "cell_type": "code",
      "execution_count": null,
      "metadata": {
        "id": "4iybovm56e-u",
        "outputId": "48824a97-c721-4c63-b2b1-2822cfa39c0c"
      },
      "outputs": [
        {
          "data": {
            "text/plain": [
              "array([ 1399.   ,  1018.   ,   636.173,   862.   ,   446.   ,   891.   ,\n",
              "         761.   ,   751.   ,   394.   ,  1053.   ,  1055.   ,  1079.   ,\n",
              "         810.   ,  2386.   ,  1850.   ,   531.   ,   586.   ,  1249.   ,\n",
              "        2455.   ,   583.   ,  1537.   ,  1288.   ,   915.   ,  1750.   ,\n",
              "         707.   ,  1077.   ,  1486.   ,  1091.   ,   650.   ,   382.   ,\n",
              "        1436.   ,  1194.   ,   503.   ,  1017.   ,  1104.   ,   639.   ,\n",
              "         629.   ,   919.   ,   781.   ,   530.   ,   640.   ,   765.   ,\n",
              "         777.   ,   779.   ,   934.   ,   769.   ,   645.   ,  1185.   ,\n",
              "        1324.   ,   830.   ,  1187.   ,  1111.   ,   760.   ,   642.   ,\n",
              "        1604.   ,  1095.   ,   966.   ,   473.   ,  1138.   ,  1811.   ,\n",
              "         988.   ,   917.   ,  1156.   ,   687.   , 11714.   ,   836.   ,\n",
              "        1347.   ,  2866.   ,  1646.   ,   259.   ,   609.   ,   697.   ,\n",
              "         585.   ,   475.   ,   690.   ,   308.   ,  1823.   ,  1361.   ,\n",
              "        1273.   ,   924.   ,   584.   ,  2078.   ,   831.   ,  1172.   ,\n",
              "         893.   ,  1872.   ,  1885.   ,  1266.   ,   447.   ,  2148.   ,\n",
              "        1730.   ,   730.   ,   289.   ,   502.   ,   333.   ,  1325.   ,\n",
              "         247.   ,   879.   ,  1342.   ,  1327.   ,  1598.   ,  1514.   ,\n",
              "        1058.   ,   738.   ,  1935.   ,   481.   ,  1522.   ,  1282.   ,\n",
              "         456.   ,   880.   ,   900.   ,   798.   ,  1277.   ,   442.   ,\n",
              "        1051.   ,   790.   ,  1292.   ,  1047.   ,   528.   ,  1211.   ,\n",
              "        1493.   ,  1793.   ,   574.   ,   930.   ,  1998.   ,   271.   ,\n",
              "         706.   ,  1481.   ,  1677.   ,  1661.   ,  1286.   ,  1408.   ,\n",
              "        1090.   ,   595.   ,  1451.   ,  1267.   ,   993.   ,  1714.   ,\n",
              "         878.   ,   641.   ,   749.   ,  1511.   ,   603.   ,   353.   ,\n",
              "         877.   ,  1236.   ,  1141.   ,   397.   ,   784.   ,  1024.   ,\n",
              "        1357.   ,  1301.   ,   770.   ,   922.   ,  1438.   ,   753.   ,\n",
              "         607.   ,  1363.   ,   638.   ,   490.   ,   431.   ,   565.   ,\n",
              "         517.   ,   833.   ,   489.   ,  1760.   ,   986.   ,  1841.   ,\n",
              "        1620.   ,  1360.   ,   474.   ,  1099.   ,   978.   ,  1624.   ,\n",
              "        1946.   ,  1268.   ,  1307.   ,   696.   ,   649.   ,   666.   ,\n",
              "        2151.   ,   551.   ,   800.   ,   971.   ,  1323.   ,  2377.   ,\n",
              "        1845.   ,  1083.   ,   694.   ,   463.   ,   419.   ,   345.   ,\n",
              "        1515.   ,  1505.   ,  2056.   ,  1203.   ,   729.   ,   460.   ,\n",
              "        1356.   ,   876.   ,   911.   ,  1190.   ,   780.   ,   448.   ,\n",
              "        2410.   ,  1848.   ,  1148.   ,   834.   ,  1275.   ,  1028.   ,\n",
              "        1197.   ,   724.   ,   890.   ,  1705.   ,   505.   ,   789.   ,\n",
              "        2959.   ,   518.   ,   461.   ,  1719.   ,  2858.   ,  3156.   ,\n",
              "        2225.   ,  2177.   ,  1968.   ,  1888.   ,  1308.   ,  2736.   ,\n",
              "        1103.   ,   557.   ,  2195.   ,   843.   ,  1664.   ,   723.   ,\n",
              "        4508.   ,   562.   ,   501.   ,  2018.   ,  1076.   ,  1202.   ,\n",
              "        3301.   ,   691.   ,  1440.   ,  1869.   ,  1178.   ,   418.   ,\n",
              "        1820.   ,  1413.   ,   488.   ,  1304.   ,   363.   ,  2108.   ,\n",
              "         521.   ,  1659.   ,    87.   ,  1411.   ,  1528.   ,  3292.   ,\n",
              "        7058.   ,  1578.   ,   627.   ,   874.   ,  1996.   ,  1488.   ,\n",
              "        5679.   ,  1234.   ,  5603.   ,   400.   ,   889.   ,  3268.   ,\n",
              "         875.   ,   949.   ,  2265.   ,   441.   ,   742.   ,   425.   ,\n",
              "        2476.   ,  2971.   ,   614.   ,  1816.   ,  1375.   ,  1405.   ,\n",
              "        2297.   ,  1062.   ,  1113.   ,   420.   ,  2469.   ,   658.   ,\n",
              "        1951.   ,  2670.   ,  2578.   ,  1995.   ,  1032.   ,   994.   ,\n",
              "        1011.   ,  2421.   ,  1296.   ,   155.   ,   494.   ,   426.   ,\n",
              "        1086.   ,   961.   ,  2236.   ,  1829.   ,   764.   ,  1834.   ,\n",
              "        1054.   ,   617.   ,  1529.   ,  2266.   ,   637.   ,   626.   ,\n",
              "        1832.   ,  1016.   ,  2002.   ,  1756.   ,   746.   ,  1285.   ,\n",
              "        2690.   ,  1118.   ,  5332.   ,   980.   ,  1807.   ,   970.   ,\n",
              "        1228.   ,  1195.   ,  1132.   ,  1768.   ,  1384.   ,  1080.   ,\n",
              "        7063.   ,  1817.   ,  1452.   ,  1975.   ,  1368.   ,   702.   ,\n",
              "        1974.   ,  1781.   ,  1036.   ,   944.   ,   663.   ,   364.   ,\n",
              "        1539.   ,  1345.   ,  1680.   ,  2209.   ,   741.   ,  1575.   ,\n",
              "         695.   ,  1317.   ,   294.   ,  1525.   ,   424.   ,   997.   ,\n",
              "        1473.   ,  1552.   ,  2819.   ,  2188.   ,  1668.   ,  3057.   ,\n",
              "         799.   ,  1502.   ,  2606.   ,   552.   ,  1694.   ,  1759.   ,\n",
              "        1110.   ,   399.   ,  1470.   ,  1174.   ,  5877.   ,  1474.   ,\n",
              "        1688.   ,   526.   ,   686.   ,  5908.   ,  1107.   ,  2070.   ,\n",
              "        1468.   ,  1246.   ,  1685.   ,   556.   ,  1533.   ,  1917.   ,\n",
              "        1346.   ,   732.   ,   692.   ,   579.   ,   421.   ,   362.   ,\n",
              "        3505.   ,  1855.   ,  2711.   ,  1586.   ,  3739.   ,   681.   ,\n",
              "        1708.   ,  2278.   ,  1701.   ,   722.   ,  1482.   ,   928.   ,\n",
              "         827.   ,   832.   ,   527.   ,   604.   ,   173.   ,  1341.   ,\n",
              "        3329.   ,  1553.   ,   859.   ,   167.   ,   916.   ,   828.   ,\n",
              "        2082.   ,  1176.   ,  1108.   ,   975.   ,  3008.   ,  1516.   ,\n",
              "        2269.   ,  1699.   ,  2073.   ,  1031.   ,  1503.   ,  2364.   ,\n",
              "        1030.   ,  1442.   ,  5666.   ,  2715.   ,  1437.   ,  2067.   ,\n",
              "        1426.   ,  2908.   ,  1279.   ,   866.   ,  4283.   ,   279.   ,\n",
              "        2658.   ,  3015.   ,  2004.   ,  1391.   ,  4736.   ,   748.   ,\n",
              "        1466.   ,   644.   ,   683.   ,  2705.   ,  1297.   ,   731.   ,\n",
              "        1252.   ,  2216.   ,  3141.   ,  3273.   ,  1518.   ,  1723.   ,\n",
              "        1588.   ,   972.   ,   682.   ,  1094.   ,   668.   ,   175.   ,\n",
              "         967.   ,   402.   ,  3894.   ,  1960.   ,  1599.   ,  2000.   ,\n",
              "        2084.   ,  1621.   ,   714.   ,  1109.   ,  3989.   ,   873.   ,\n",
              "        1572.   ,  1163.   ,  1991.   ,  1716.   ,  1673.   ,  2562.   ,\n",
              "        2874.   ,   965.   ,   462.   ,   605.   ,  1948.   ,  1736.   ,\n",
              "        3518.   ,  2054.   ,  2467.   ,  1681.   ,  1272.   ,  1205.   ,\n",
              "         750.   ,  2156.   ,  2566.   ,   115.   ,   524.   ,  3184.   ,\n",
              "         676.   ,  1678.   ,   612.   ,   328.   ,   955.   ,  1441.   ,\n",
              "        1675.   ,  3965.   ,  2909.   ,   623.   ,   822.   ,   867.   ,\n",
              "        3025.   ,  1993.   ,   792.   ,   636.   ,  4057.   ,  3743.   ,\n",
              "        2337.   ,  2570.   ,  2418.   ,  2472.   ,  3910.   ,  1662.   ,\n",
              "        2123.   ,  2628.   ,  3208.   ,  2080.   ,  3699.   ,  2913.   ,\n",
              "         864.   ,  2505.   ,   870.   ,  7536.   ,  1924.   ,  1671.   ,\n",
              "        1064.   ,  1836.   ,  1866.   ,  4741.   ,   841.   ,  1369.   ,\n",
              "        5681.   ,  3112.   ,  1366.   ,  2223.   ,  1198.   ,  1039.   ,\n",
              "        3811.   ,  3571.   ,  1387.   ,  1171.   ,  1365.   ,  1531.   ,\n",
              "        1590.   , 11706.   ,  2308.   ,  4860.   ,  1641.   ,  1045.   ,\n",
              "        1901.   ,  1883.   ,  1613.   ,  4746.   ,  3061.   ,  2547.   ,\n",
              "        3258.   ,  7528.   ,  2317.   ,  1846.   ,  3005.   ,  2802.   ,\n",
              "        1545.   ,  2096.   ,  2625.   ,  1526.   ,  1721.   ,   437.   ,\n",
              "         818.   ,  1364.   ,  1168.   ,  2132.   ,  3515.   ,   771.   ,\n",
              "        4514.   ,  1844.   ,   914.   ,   923.   ,  1830.   ,  2553.   ,\n",
              "        2008.   ,   977.   ,  2969.   ,  4053.   ,  1594.   ,  1415.   ,\n",
              "        1698.   ,  5220.   ,  1254.   ,  1747.   ,  3718.   ,  2643.   ,\n",
              "        1044.   ,  4735.   ,  1555.   ,  5668.   ,   582.   ,  2390.   ,\n",
              "         238.   ,  1040.   ,   835.   ,   763.   ,  2040.   ,  1696.   ,\n",
              "        1837.   ,  1614.   ,  1519.   ,  2800.   ,  1035.   ,  2528.   ,\n",
              "        4739.   ,  1271.   ,  1359.   ,  2488.   ,  2235.   ,  2052.   ,\n",
              "        1226.   ,  4159.   ,  2068.   ,  2243.   ,  2504.   ,  1762.   ,\n",
              "        3592.   ,  1899.   ,   704.   ,  2373.   ,   884.   ],\n",
              "      dtype=float32)"
            ]
          },
          "execution_count": 23,
          "metadata": {},
          "output_type": "execute_result"
        }
      ],
      "source": [
        "df_merge[\"Levy\"].unique()"
      ]
    },
    {
      "cell_type": "code",
      "execution_count": null,
      "metadata": {
        "id": "hASLQ5h26e-u",
        "outputId": "56ccb5e9-6360-48ad-a19c-b342156a6c39"
      },
      "outputs": [
        {
          "data": {
            "text/plain": [
              "array(['3.5', '3', '1.3', '2.5', '2', '1.8', '2.4', '4', '1.6', '3.3',\n",
              "       '2.0 Turbo', '2.2 Turbo', '4.7', '1.5', '4.4', '3.0 Turbo',\n",
              "       '1.4 Turbo', '3.6', '2.3', '1.5 Turbo', '1.6 Turbo', '2.2',\n",
              "       '2.3 Turbo', '1.4', '5.5', '2.8 Turbo', '3.2', '3.8', '4.6', '1.2',\n",
              "       '5', '1.7', '2.9', '0.5', '1.8 Turbo', '2.4 Turbo', '3.5 Turbo',\n",
              "       '1.9', '2.7', '4.8', '5.3', '0.4', '2.8', '3.2 Turbo', '1.1',\n",
              "       '2.1', '0.7', '5.4', '1.3 Turbo', '3.7', '1', '2.5 Turbo', '2.6',\n",
              "       '1.9 Turbo', '4.4 Turbo', '4.7 Turbo', '0.8', '0.2 Turbo', '5.7',\n",
              "       '4.8 Turbo', '4.6 Turbo', '6.7', '6.2', '1.2 Turbo', '3.4',\n",
              "       '1.7 Turbo', '6.3 Turbo', '2.7 Turbo', '4.3', '4.2', '2.9 Turbo',\n",
              "       '0', '4.0 Turbo', '20', '3.6 Turbo', '0.3', '3.7 Turbo', '5.9',\n",
              "       '5.5 Turbo', '0.2', '2.1 Turbo', '5.6', '6', '0.7 Turbo',\n",
              "       '0.6 Turbo', '6.8', '4.5', '0.6', '7.3', '0.1', '1.0 Turbo', '6.3',\n",
              "       '4.5 Turbo', '0.8 Turbo', '4.2 Turbo', '3.1', '5.0 Turbo', '6.4',\n",
              "       '3.9', '5.7 Turbo', '0.9', '0.4 Turbo', '5.4 Turbo', '0.3 Turbo',\n",
              "       '5.2', '5.8', '1.1 Turbo', '6.6', '6.1', '10.8', '6.0 Turbo',\n",
              "       '2.6 Turbo'], dtype=object)"
            ]
          },
          "execution_count": 24,
          "metadata": {},
          "output_type": "execute_result"
        }
      ],
      "source": [
        "#working with Engine volume\n",
        "df_merge[\"Engine volume\"].unique()"
      ]
    },
    {
      "cell_type": "code",
      "execution_count": null,
      "metadata": {
        "id": "ELTK37OW6e-v"
      },
      "outputs": [],
      "source": [
        "df_merge[\"Engine volume\"] = pd.to_numeric(df_merge[\"Engine volume\"]. str.split(\" \").str[0], downcast = \"float\")"
      ]
    },
    {
      "cell_type": "code",
      "execution_count": null,
      "metadata": {
        "id": "HqPEJkfx6e-v"
      },
      "outputs": [],
      "source": [
        "#replace 0 with mean\n",
        "df_merge[\"Engine volume\"] = np.where(df_merge[\"Engine volume\"] == 0.0, df_merge[\"Engine volume\"].mean(), df_merge[\"Engine volume\"])"
      ]
    },
    {
      "cell_type": "code",
      "execution_count": null,
      "metadata": {
        "id": "9dx9kNey6e-v",
        "outputId": "9b5ddaff-92aa-49c8-9abd-f3706330ac17"
      },
      "outputs": [
        {
          "data": {
            "text/plain": [
              "array([ 3.5    ,  3.     ,  1.3    ,  2.5    ,  2.     ,  1.8    ,\n",
              "        2.4    ,  4.     ,  1.6    ,  3.3    ,  2.2    ,  4.7    ,\n",
              "        1.5    ,  4.4    ,  1.4    ,  3.6    ,  2.3    ,  5.5    ,\n",
              "        2.8    ,  3.2    ,  3.8    ,  4.6    ,  1.2    ,  5.     ,\n",
              "        1.7    ,  2.9    ,  0.5    ,  1.9    ,  2.7    ,  4.8    ,\n",
              "        5.3    ,  0.4    ,  1.1    ,  2.1    ,  0.7    ,  5.4    ,\n",
              "        3.7    ,  1.     ,  2.6    ,  0.8    ,  0.2    ,  5.7    ,\n",
              "        6.7    ,  6.2    ,  3.4    ,  6.3    ,  4.3    ,  4.2    ,\n",
              "        2.31316, 20.     ,  0.3    ,  5.9    ,  5.6    ,  6.     ,\n",
              "        0.6    ,  6.8    ,  4.5    ,  7.3    ,  0.1    ,  3.1    ,\n",
              "        6.4    ,  3.9    ,  0.9    ,  5.2    ,  5.8    ,  6.6    ,\n",
              "        6.1    , 10.8    ], dtype=float32)"
            ]
          },
          "execution_count": 27,
          "metadata": {},
          "output_type": "execute_result"
        }
      ],
      "source": [
        "df_merge[\"Engine volume\"].unique()"
      ]
    },
    {
      "cell_type": "code",
      "execution_count": null,
      "metadata": {
        "id": "Prz-wOBt6e-w"
      },
      "outputs": [],
      "source": [
        "#feature enginnering the prodcution year column\n",
        "import datetime as dt\n",
        "curr_time = dt.datetime.now()\n",
        "df_merge[\"Prod. year\"] = curr_time.year - df_merge[\"Prod. year\"]"
      ]
    },
    {
      "cell_type": "code",
      "execution_count": null,
      "metadata": {
        "id": "DrGoOhCK6e-w",
        "outputId": "39efd970-7a8d-47e4-f493-7efe7e093716"
      },
      "outputs": [
        {
          "data": {
            "text/plain": [
              "datetime.datetime(2022, 7, 11, 22, 31, 33, 381854)"
            ]
          },
          "execution_count": 29,
          "metadata": {},
          "output_type": "execute_result"
        }
      ],
      "source": [
        "dt.datetime.now()"
      ]
    },
    {
      "cell_type": "code",
      "execution_count": null,
      "metadata": {
        "id": "nX5tI-s96e-w",
        "outputId": "dba1383a-c744-4d05-ac1c-8c6e1779537e"
      },
      "outputs": [
        {
          "data": {
            "text/plain": [
              "2022"
            ]
          },
          "execution_count": 30,
          "metadata": {},
          "output_type": "execute_result"
        }
      ],
      "source": [
        "curr_time.year"
      ]
    },
    {
      "cell_type": "code",
      "execution_count": null,
      "metadata": {
        "id": "sZr2DTS36e-x",
        "outputId": "41ab1a58-d3e0-4dc1-e8e5-368d5c5a4944"
      },
      "outputs": [
        {
          "data": {
            "text/html": [
              "<div>\n",
              "<style scoped>\n",
              "    .dataframe tbody tr th:only-of-type {\n",
              "        vertical-align: middle;\n",
              "    }\n",
              "\n",
              "    .dataframe tbody tr th {\n",
              "        vertical-align: top;\n",
              "    }\n",
              "\n",
              "    .dataframe thead th {\n",
              "        text-align: right;\n",
              "    }\n",
              "</style>\n",
              "<table border=\"1\" class=\"dataframe\">\n",
              "  <thead>\n",
              "    <tr style=\"text-align: right;\">\n",
              "      <th></th>\n",
              "      <th>ID</th>\n",
              "      <th>Levy</th>\n",
              "      <th>Manufacturer</th>\n",
              "      <th>Model</th>\n",
              "      <th>Prod. year</th>\n",
              "      <th>Category</th>\n",
              "      <th>Leather interior</th>\n",
              "      <th>Fuel type</th>\n",
              "      <th>Engine volume</th>\n",
              "      <th>Mileage</th>\n",
              "      <th>Cylinders</th>\n",
              "      <th>Gear box type</th>\n",
              "      <th>Drive wheels</th>\n",
              "      <th>Doors</th>\n",
              "      <th>Wheel</th>\n",
              "      <th>Color</th>\n",
              "      <th>Airbags</th>\n",
              "    </tr>\n",
              "  </thead>\n",
              "  <tbody>\n",
              "    <tr>\n",
              "      <th>0</th>\n",
              "      <td>45654403</td>\n",
              "      <td>1399.000000</td>\n",
              "      <td>LEXUS</td>\n",
              "      <td>RX 450</td>\n",
              "      <td>12</td>\n",
              "      <td>Jeep</td>\n",
              "      <td>Yes</td>\n",
              "      <td>Hybrid</td>\n",
              "      <td>3.5</td>\n",
              "      <td>186005.0</td>\n",
              "      <td>6.0</td>\n",
              "      <td>Automatic</td>\n",
              "      <td>4x4</td>\n",
              "      <td>04-May</td>\n",
              "      <td>Left wheel</td>\n",
              "      <td>Silver</td>\n",
              "      <td>12</td>\n",
              "    </tr>\n",
              "    <tr>\n",
              "      <th>1</th>\n",
              "      <td>44731507</td>\n",
              "      <td>1018.000000</td>\n",
              "      <td>CHEVROLET</td>\n",
              "      <td>Equinox</td>\n",
              "      <td>11</td>\n",
              "      <td>Jeep</td>\n",
              "      <td>No</td>\n",
              "      <td>Petrol</td>\n",
              "      <td>3.0</td>\n",
              "      <td>192000.0</td>\n",
              "      <td>6.0</td>\n",
              "      <td>Tiptronic</td>\n",
              "      <td>4x4</td>\n",
              "      <td>04-May</td>\n",
              "      <td>Left wheel</td>\n",
              "      <td>Black</td>\n",
              "      <td>8</td>\n",
              "    </tr>\n",
              "    <tr>\n",
              "      <th>2</th>\n",
              "      <td>45774419</td>\n",
              "      <td>636.172974</td>\n",
              "      <td>HONDA</td>\n",
              "      <td>FIT</td>\n",
              "      <td>16</td>\n",
              "      <td>Hatchback</td>\n",
              "      <td>No</td>\n",
              "      <td>Petrol</td>\n",
              "      <td>1.3</td>\n",
              "      <td>200000.0</td>\n",
              "      <td>4.0</td>\n",
              "      <td>Variator</td>\n",
              "      <td>Front</td>\n",
              "      <td>04-May</td>\n",
              "      <td>Right-hand drive</td>\n",
              "      <td>Black</td>\n",
              "      <td>2</td>\n",
              "    </tr>\n",
              "    <tr>\n",
              "      <th>3</th>\n",
              "      <td>45769185</td>\n",
              "      <td>862.000000</td>\n",
              "      <td>FORD</td>\n",
              "      <td>Escape</td>\n",
              "      <td>11</td>\n",
              "      <td>Jeep</td>\n",
              "      <td>Yes</td>\n",
              "      <td>Hybrid</td>\n",
              "      <td>2.5</td>\n",
              "      <td>168966.0</td>\n",
              "      <td>4.0</td>\n",
              "      <td>Automatic</td>\n",
              "      <td>4x4</td>\n",
              "      <td>04-May</td>\n",
              "      <td>Left wheel</td>\n",
              "      <td>White</td>\n",
              "      <td>0</td>\n",
              "    </tr>\n",
              "    <tr>\n",
              "      <th>4</th>\n",
              "      <td>45809263</td>\n",
              "      <td>446.000000</td>\n",
              "      <td>HONDA</td>\n",
              "      <td>FIT</td>\n",
              "      <td>8</td>\n",
              "      <td>Hatchback</td>\n",
              "      <td>Yes</td>\n",
              "      <td>Petrol</td>\n",
              "      <td>1.3</td>\n",
              "      <td>91901.0</td>\n",
              "      <td>4.0</td>\n",
              "      <td>Automatic</td>\n",
              "      <td>Front</td>\n",
              "      <td>04-May</td>\n",
              "      <td>Left wheel</td>\n",
              "      <td>Silver</td>\n",
              "      <td>4</td>\n",
              "    </tr>\n",
              "  </tbody>\n",
              "</table>\n",
              "</div>"
            ],
            "text/plain": [
              "         ID         Levy Manufacturer    Model  Prod. year   Category  \\\n",
              "0  45654403  1399.000000        LEXUS   RX 450          12       Jeep   \n",
              "1  44731507  1018.000000    CHEVROLET  Equinox          11       Jeep   \n",
              "2  45774419   636.172974        HONDA      FIT          16  Hatchback   \n",
              "3  45769185   862.000000         FORD   Escape          11       Jeep   \n",
              "4  45809263   446.000000        HONDA      FIT           8  Hatchback   \n",
              "\n",
              "  Leather interior Fuel type  Engine volume   Mileage  Cylinders  \\\n",
              "0              Yes    Hybrid            3.5  186005.0        6.0   \n",
              "1               No    Petrol            3.0  192000.0        6.0   \n",
              "2               No    Petrol            1.3  200000.0        4.0   \n",
              "3              Yes    Hybrid            2.5  168966.0        4.0   \n",
              "4              Yes    Petrol            1.3   91901.0        4.0   \n",
              "\n",
              "  Gear box type Drive wheels   Doors             Wheel   Color  Airbags  \n",
              "0     Automatic          4x4  04-May        Left wheel  Silver       12  \n",
              "1     Tiptronic          4x4  04-May        Left wheel   Black        8  \n",
              "2      Variator        Front  04-May  Right-hand drive   Black        2  \n",
              "3     Automatic          4x4  04-May        Left wheel   White        0  \n",
              "4     Automatic        Front  04-May        Left wheel  Silver        4  "
            ]
          },
          "execution_count": 31,
          "metadata": {},
          "output_type": "execute_result"
        }
      ],
      "source": [
        "df_merge.head()"
      ]
    },
    {
      "cell_type": "markdown",
      "metadata": {
        "id": "lhZo38EZ6e-x"
      },
      "source": [
        "# Extrapolatory Data Analysis"
      ]
    },
    {
      "cell_type": "code",
      "execution_count": null,
      "metadata": {
        "id": "toQiAqJP6e-x",
        "outputId": "dcfd7b79-bff9-491a-dc08-3de6cdc5929c"
      },
      "outputs": [
        {
          "data": {
            "text/plain": [
              "ID                  0\n",
              "Levy                0\n",
              "Manufacturer        0\n",
              "Model               0\n",
              "Prod. year          0\n",
              "Category            0\n",
              "Leather interior    0\n",
              "Fuel type           0\n",
              "Engine volume       0\n",
              "Mileage             0\n",
              "Cylinders           0\n",
              "Gear box type       0\n",
              "Drive wheels        0\n",
              "Doors               0\n",
              "Wheel               0\n",
              "Color               0\n",
              "Airbags             0\n",
              "dtype: int64"
            ]
          },
          "execution_count": 32,
          "metadata": {},
          "output_type": "execute_result"
        }
      ],
      "source": [
        "df_merge.isnull().sum()"
      ]
    },
    {
      "cell_type": "code",
      "execution_count": null,
      "metadata": {
        "id": "A6JnX3aG6e-y",
        "outputId": "43a43a5b-614f-4ebc-e20b-bbc1c803a8e2"
      },
      "outputs": [
        {
          "data": {
            "text/plain": [
              "<function matplotlib.pyplot.show(*args, **kw)>"
            ]
          },
          "execution_count": 63,
          "metadata": {},
          "output_type": "execute_result"
        },
        {
          "data": {
            "image/png": "[encoded data removed]",
            "text/plain": [
              "<Figure size 1080x576 with 1 Axes>"
            ]
          },
          "metadata": {
            "needs_background": "light"
          },
          "output_type": "display_data"
        }
      ],
      "source": [
        "sns.heatmap(df_merge.isnull(), cbar = False)\n",
        "plt.show"
      ]
    },
    {
      "cell_type": "code",
      "execution_count": null,
      "metadata": {
        "id": "UVqHFyMH6e-y",
        "outputId": "5bd49230-e6e8-45b3-ebc6-2a41ccd814c3"
      },
      "outputs": [
        {
          "data": {
            "text/plain": [
              "<matplotlib.axes._subplots.AxesSubplot at 0x23ef3522220>"
            ]
          },
          "execution_count": 34,
          "metadata": {},
          "output_type": "execute_result"
        },
        {
          "data": {
            "image/png": "[encoded data removed]",
            "text/plain": [
              "<Figure size 1080x576 with 2 Axes>"
            ]
          },
          "metadata": {
            "needs_background": "light"
          },
          "output_type": "display_data"
        }
      ],
      "source": [
        "#correlation, annot=True gives the numbers inside the box\n",
        "sns.heatmap(df_merge.corr(), cbar = True, annot = True)"
      ]
    },
    {
      "cell_type": "code",
      "execution_count": null,
      "metadata": {
        "id": "pXMyBjzC6e-y",
        "outputId": "05064a44-d498-4e1c-bfc8-c1114145a085"
      },
      "outputs": [
        {
          "data": {
            "text/html": [
              "<div>\n",
              "<style scoped>\n",
              "    .dataframe tbody tr th:only-of-type {\n",
              "        vertical-align: middle;\n",
              "    }\n",
              "\n",
              "    .dataframe tbody tr th {\n",
              "        vertical-align: top;\n",
              "    }\n",
              "\n",
              "    .dataframe thead th {\n",
              "        text-align: right;\n",
              "    }\n",
              "</style>\n",
              "<table border=\"1\" class=\"dataframe\">\n",
              "  <thead>\n",
              "    <tr style=\"text-align: right;\">\n",
              "      <th></th>\n",
              "      <th>ID</th>\n",
              "      <th>Levy</th>\n",
              "      <th>Prod. year</th>\n",
              "      <th>Engine volume</th>\n",
              "      <th>Mileage</th>\n",
              "      <th>Cylinders</th>\n",
              "      <th>Airbags</th>\n",
              "    </tr>\n",
              "  </thead>\n",
              "  <tbody>\n",
              "    <tr>\n",
              "      <th>ID</th>\n",
              "      <td>1.000000</td>\n",
              "      <td>0.036516</td>\n",
              "      <td>-0.070181</td>\n",
              "      <td>-0.010288</td>\n",
              "      <td>0.004644</td>\n",
              "      <td>-0.032212</td>\n",
              "      <td>-0.014193</td>\n",
              "    </tr>\n",
              "    <tr>\n",
              "      <th>Levy</th>\n",
              "      <td>0.036516</td>\n",
              "      <td>1.000000</td>\n",
              "      <td>-0.086094</td>\n",
              "      <td>0.520686</td>\n",
              "      <td>-0.005820</td>\n",
              "      <td>0.351834</td>\n",
              "      <td>0.096323</td>\n",
              "    </tr>\n",
              "    <tr>\n",
              "      <th>Prod. year</th>\n",
              "      <td>-0.070181</td>\n",
              "      <td>-0.086094</td>\n",
              "      <td>1.000000</td>\n",
              "      <td>0.019688</td>\n",
              "      <td>0.059972</td>\n",
              "      <td>0.072717</td>\n",
              "      <td>-0.236227</td>\n",
              "    </tr>\n",
              "    <tr>\n",
              "      <th>Engine volume</th>\n",
              "      <td>-0.010288</td>\n",
              "      <td>0.520686</td>\n",
              "      <td>0.019688</td>\n",
              "      <td>1.000000</td>\n",
              "      <td>-0.011128</td>\n",
              "      <td>0.668270</td>\n",
              "      <td>0.216082</td>\n",
              "    </tr>\n",
              "    <tr>\n",
              "      <th>Mileage</th>\n",
              "      <td>0.004644</td>\n",
              "      <td>-0.005820</td>\n",
              "      <td>0.059972</td>\n",
              "      <td>-0.011128</td>\n",
              "      <td>1.000000</td>\n",
              "      <td>-0.004017</td>\n",
              "      <td>-0.007301</td>\n",
              "    </tr>\n",
              "    <tr>\n",
              "      <th>Cylinders</th>\n",
              "      <td>-0.032212</td>\n",
              "      <td>0.351834</td>\n",
              "      <td>0.072717</td>\n",
              "      <td>0.668270</td>\n",
              "      <td>-0.004017</td>\n",
              "      <td>1.000000</td>\n",
              "      <td>0.140130</td>\n",
              "    </tr>\n",
              "    <tr>\n",
              "      <th>Airbags</th>\n",
              "      <td>-0.014193</td>\n",
              "      <td>0.096323</td>\n",
              "      <td>-0.236227</td>\n",
              "      <td>0.216082</td>\n",
              "      <td>-0.007301</td>\n",
              "      <td>0.140130</td>\n",
              "      <td>1.000000</td>\n",
              "    </tr>\n",
              "  </tbody>\n",
              "</table>\n",
              "</div>"
            ],
            "text/plain": [
              "                     ID      Levy  Prod. year  Engine volume   Mileage  \\\n",
              "ID             1.000000  0.036516   -0.070181      -0.010288  0.004644   \n",
              "Levy           0.036516  1.000000   -0.086094       0.520686 -0.005820   \n",
              "Prod. year    -0.070181 -0.086094    1.000000       0.019688  0.059972   \n",
              "Engine volume -0.010288  0.520686    0.019688       1.000000 -0.011128   \n",
              "Mileage        0.004644 -0.005820    0.059972      -0.011128  1.000000   \n",
              "Cylinders     -0.032212  0.351834    0.072717       0.668270 -0.004017   \n",
              "Airbags       -0.014193  0.096323   -0.236227       0.216082 -0.007301   \n",
              "\n",
              "               Cylinders   Airbags  \n",
              "ID             -0.032212 -0.014193  \n",
              "Levy            0.351834  0.096323  \n",
              "Prod. year      0.072717 -0.236227  \n",
              "Engine volume   0.668270  0.216082  \n",
              "Mileage        -0.004017 -0.007301  \n",
              "Cylinders       1.000000  0.140130  \n",
              "Airbags         0.140130  1.000000  "
            ]
          },
          "execution_count": 35,
          "metadata": {},
          "output_type": "execute_result"
        }
      ],
      "source": [
        "df_merge.corr()"
      ]
    },
    {
      "cell_type": "code",
      "execution_count": null,
      "metadata": {
        "id": "JyT22kwl6e-z",
        "outputId": "bbb93456-8a83-4962-8558-c3ad1aff6ff9"
      },
      "outputs": [
        {
          "data": {
            "image/png": "[encoded data removed]",
            "text/plain": [
              "<Figure size 1080x576 with 9 Axes>"
            ]
          },
          "metadata": {
            "needs_background": "light"
          },
          "output_type": "display_data"
        }
      ],
      "source": [
        "#distribution of numeric variables\n",
        "df_merge.hist()\n",
        "plt.tight_layout()\n",
        "plt.show()"
      ]
    },
    {
      "cell_type": "code",
      "execution_count": null,
      "metadata": {
        "id": "2iu_Hszp6e-z"
      },
      "outputs": [],
      "source": [
        "# \"prod.year\", \"levy\" and \"engine volume\" columsn are right skewed"
      ]
    },
    {
      "cell_type": "code",
      "execution_count": null,
      "metadata": {
        "id": "0hNo5L6r6e-0",
        "outputId": "edf49dc8-390a-4166-865e-3db3b4b28047"
      },
      "outputs": [
        {
          "name": "stdout",
          "output_type": "stream",
          "text": [
            "Negatively skewed\n"
          ]
        }
      ],
      "source": [
        "#shapiro test to check the skewness of the target variables\n",
        "from scipy.stats import shapiro\n",
        "x = shapiro(y)\n",
        "if x[1] <= 0.05:\n",
        "    print(\"Negatively skewed\")\n",
        "else:\n",
        "    print(\"Positively skewed\")"
      ]
    },
    {
      "cell_type": "code",
      "execution_count": null,
      "metadata": {
        "id": "BnF92EjB6e-0",
        "outputId": "a637b766-408c-4929-a807-4e649533b878"
      },
      "outputs": [
        {
          "data": {
            "text/plain": [
              "136.47042654268714"
            ]
          },
          "execution_count": 39,
          "metadata": {},
          "output_type": "execute_result"
        }
      ],
      "source": [
        "y.skew()"
      ]
    },
    {
      "cell_type": "code",
      "execution_count": null,
      "metadata": {
        "id": "eGeiq1fw6e-1"
      },
      "outputs": [],
      "source": [
        "# as from the shapiro test we can see that \"Price\" column is neg skewed so we need to normalize it\n",
        "y = np.log(y)"
      ]
    },
    {
      "cell_type": "markdown",
      "metadata": {
        "id": "gBqvfx666e-1"
      },
      "source": [
        "# Building the model"
      ]
    },
    {
      "cell_type": "code",
      "execution_count": null,
      "metadata": {
        "id": "L3JFrGyD6e-1"
      },
      "outputs": [],
      "source": [
        "categ = df_merge.select_dtypes(include = \"object\")\n",
        "num = df_merge.select_dtypes(include = np.number)"
      ]
    },
    {
      "cell_type": "code",
      "execution_count": null,
      "metadata": {
        "id": "z8Uxv7dn6e-2"
      },
      "outputs": [],
      "source": [
        "#getting dummies for the categorical var\n",
        "cat_dummies = pd.get_dummies(categ, drop_first = True)\n",
        "#drop_first = True means that to dec the compilation time"
      ]
    },
    {
      "cell_type": "code",
      "execution_count": null,
      "metadata": {
        "id": "DnWnukzU6e-3"
      },
      "outputs": [],
      "source": [
        "#crete the final dataset\n",
        "df_final = pd.concat([num, cat_dummies], axis = 1)"
      ]
    },
    {
      "cell_type": "code",
      "execution_count": null,
      "metadata": {
        "id": "e2dVdNq66e-3",
        "outputId": "150c44c9-d4bf-4c0e-9d00-1f653e89591d"
      },
      "outputs": [
        {
          "data": {
            "text/plain": [
              "(27482, 2094)"
            ]
          },
          "execution_count": 44,
          "metadata": {},
          "output_type": "execute_result"
        }
      ],
      "source": [
        "df_final.shape"
      ]
    },
    {
      "cell_type": "code",
      "execution_count": null,
      "metadata": {
        "id": "IbyZfsa96e-3",
        "outputId": "7e6deb72-05dd-4a47-82c9-62a5ee6911cf"
      },
      "outputs": [
        {
          "data": {
            "text/html": [
              "<div>\n",
              "<style scoped>\n",
              "    .dataframe tbody tr th:only-of-type {\n",
              "        vertical-align: middle;\n",
              "    }\n",
              "\n",
              "    .dataframe tbody tr th {\n",
              "        vertical-align: top;\n",
              "    }\n",
              "\n",
              "    .dataframe thead th {\n",
              "        text-align: right;\n",
              "    }\n",
              "</style>\n",
              "<table border=\"1\" class=\"dataframe\">\n",
              "  <thead>\n",
              "    <tr style=\"text-align: right;\">\n",
              "      <th></th>\n",
              "      <th>ID</th>\n",
              "      <th>Levy</th>\n",
              "      <th>Prod. year</th>\n",
              "      <th>Engine volume</th>\n",
              "      <th>Mileage</th>\n",
              "      <th>Cylinders</th>\n",
              "      <th>Airbags</th>\n",
              "      <th>Manufacturer_ALFA ROMEO</th>\n",
              "      <th>Manufacturer_ASTON MARTIN</th>\n",
              "      <th>Manufacturer_AUDI</th>\n",
              "      <th>...</th>\n",
              "      <th>Color_Green</th>\n",
              "      <th>Color_Grey</th>\n",
              "      <th>Color_Orange</th>\n",
              "      <th>Color_Pink</th>\n",
              "      <th>Color_Purple</th>\n",
              "      <th>Color_Red</th>\n",
              "      <th>Color_Silver</th>\n",
              "      <th>Color_Sky blue</th>\n",
              "      <th>Color_White</th>\n",
              "      <th>Color_Yellow</th>\n",
              "    </tr>\n",
              "  </thead>\n",
              "  <tbody>\n",
              "    <tr>\n",
              "      <th>0</th>\n",
              "      <td>45654403</td>\n",
              "      <td>1399.000000</td>\n",
              "      <td>12</td>\n",
              "      <td>3.5</td>\n",
              "      <td>186005.0</td>\n",
              "      <td>6.0</td>\n",
              "      <td>12</td>\n",
              "      <td>0</td>\n",
              "      <td>0</td>\n",
              "      <td>0</td>\n",
              "      <td>...</td>\n",
              "      <td>0</td>\n",
              "      <td>0</td>\n",
              "      <td>0</td>\n",
              "      <td>0</td>\n",
              "      <td>0</td>\n",
              "      <td>0</td>\n",
              "      <td>1</td>\n",
              "      <td>0</td>\n",
              "      <td>0</td>\n",
              "      <td>0</td>\n",
              "    </tr>\n",
              "    <tr>\n",
              "      <th>1</th>\n",
              "      <td>44731507</td>\n",
              "      <td>1018.000000</td>\n",
              "      <td>11</td>\n",
              "      <td>3.0</td>\n",
              "      <td>192000.0</td>\n",
              "      <td>6.0</td>\n",
              "      <td>8</td>\n",
              "      <td>0</td>\n",
              "      <td>0</td>\n",
              "      <td>0</td>\n",
              "      <td>...</td>\n",
              "      <td>0</td>\n",
              "      <td>0</td>\n",
              "      <td>0</td>\n",
              "      <td>0</td>\n",
              "      <td>0</td>\n",
              "      <td>0</td>\n",
              "      <td>0</td>\n",
              "      <td>0</td>\n",
              "      <td>0</td>\n",
              "      <td>0</td>\n",
              "    </tr>\n",
              "    <tr>\n",
              "      <th>2</th>\n",
              "      <td>45774419</td>\n",
              "      <td>636.172974</td>\n",
              "      <td>16</td>\n",
              "      <td>1.3</td>\n",
              "      <td>200000.0</td>\n",
              "      <td>4.0</td>\n",
              "      <td>2</td>\n",
              "      <td>0</td>\n",
              "      <td>0</td>\n",
              "      <td>0</td>\n",
              "      <td>...</td>\n",
              "      <td>0</td>\n",
              "      <td>0</td>\n",
              "      <td>0</td>\n",
              "      <td>0</td>\n",
              "      <td>0</td>\n",
              "      <td>0</td>\n",
              "      <td>0</td>\n",
              "      <td>0</td>\n",
              "      <td>0</td>\n",
              "      <td>0</td>\n",
              "    </tr>\n",
              "    <tr>\n",
              "      <th>3</th>\n",
              "      <td>45769185</td>\n",
              "      <td>862.000000</td>\n",
              "      <td>11</td>\n",
              "      <td>2.5</td>\n",
              "      <td>168966.0</td>\n",
              "      <td>4.0</td>\n",
              "      <td>0</td>\n",
              "      <td>0</td>\n",
              "      <td>0</td>\n",
              "      <td>0</td>\n",
              "      <td>...</td>\n",
              "      <td>0</td>\n",
              "      <td>0</td>\n",
              "      <td>0</td>\n",
              "      <td>0</td>\n",
              "      <td>0</td>\n",
              "      <td>0</td>\n",
              "      <td>0</td>\n",
              "      <td>0</td>\n",
              "      <td>1</td>\n",
              "      <td>0</td>\n",
              "    </tr>\n",
              "    <tr>\n",
              "      <th>4</th>\n",
              "      <td>45809263</td>\n",
              "      <td>446.000000</td>\n",
              "      <td>8</td>\n",
              "      <td>1.3</td>\n",
              "      <td>91901.0</td>\n",
              "      <td>4.0</td>\n",
              "      <td>4</td>\n",
              "      <td>0</td>\n",
              "      <td>0</td>\n",
              "      <td>0</td>\n",
              "      <td>...</td>\n",
              "      <td>0</td>\n",
              "      <td>0</td>\n",
              "      <td>0</td>\n",
              "      <td>0</td>\n",
              "      <td>0</td>\n",
              "      <td>0</td>\n",
              "      <td>1</td>\n",
              "      <td>0</td>\n",
              "      <td>0</td>\n",
              "      <td>0</td>\n",
              "    </tr>\n",
              "  </tbody>\n",
              "</table>\n",
              "<p>5 rows × 2094 columns</p>\n",
              "</div>"
            ],
            "text/plain": [
              "         ID         Levy  Prod. year  Engine volume   Mileage  Cylinders  \\\n",
              "0  45654403  1399.000000          12            3.5  186005.0        6.0   \n",
              "1  44731507  1018.000000          11            3.0  192000.0        6.0   \n",
              "2  45774419   636.172974          16            1.3  200000.0        4.0   \n",
              "3  45769185   862.000000          11            2.5  168966.0        4.0   \n",
              "4  45809263   446.000000           8            1.3   91901.0        4.0   \n",
              "\n",
              "   Airbags  Manufacturer_ALFA ROMEO  Manufacturer_ASTON MARTIN  \\\n",
              "0       12                        0                          0   \n",
              "1        8                        0                          0   \n",
              "2        2                        0                          0   \n",
              "3        0                        0                          0   \n",
              "4        4                        0                          0   \n",
              "\n",
              "   Manufacturer_AUDI  ...  Color_Green  Color_Grey  Color_Orange  Color_Pink  \\\n",
              "0                  0  ...            0           0             0           0   \n",
              "1                  0  ...            0           0             0           0   \n",
              "2                  0  ...            0           0             0           0   \n",
              "3                  0  ...            0           0             0           0   \n",
              "4                  0  ...            0           0             0           0   \n",
              "\n",
              "   Color_Purple  Color_Red  Color_Silver  Color_Sky blue  Color_White  \\\n",
              "0             0          0             1               0            0   \n",
              "1             0          0             0               0            0   \n",
              "2             0          0             0               0            0   \n",
              "3             0          0             0               0            1   \n",
              "4             0          0             1               0            0   \n",
              "\n",
              "   Color_Yellow  \n",
              "0             0  \n",
              "1             0  \n",
              "2             0  \n",
              "3             0  \n",
              "4             0  \n",
              "\n",
              "[5 rows x 2094 columns]"
            ]
          },
          "execution_count": 45,
          "metadata": {},
          "output_type": "execute_result"
        }
      ],
      "source": [
        "df_final.head()"
      ]
    },
    {
      "cell_type": "code",
      "execution_count": null,
      "metadata": {
        "id": "hgBDeAeL6e-3",
        "outputId": "5b675b99-d494-41f7-c325-61ff30170c8e"
      },
      "outputs": [
        {
          "data": {
            "text/plain": [
              "(19237, 2094)"
            ]
          },
          "execution_count": 46,
          "metadata": {},
          "output_type": "execute_result"
        }
      ],
      "source": [
        "# segregate the training and test data before model building\n",
        "train_data = df_final.iloc[:19237] #[start:stop:step]\n",
        "train_data.shape"
      ]
    },
    {
      "cell_type": "code",
      "execution_count": null,
      "metadata": {
        "id": "DLrRDsI26e-4"
      },
      "outputs": [],
      "source": [
        "# split the data into test and train\n",
        "X = train_data\n",
        "Y = y\n",
        "\n",
        "X_train, X_test, y_train, y_test = train_test_split(X,Y, test_size=0.3, random_state = 10)\n",
        "#test size = 70% and 30% to train and test, random_state = randomliy assign"
      ]
    },
    {
      "cell_type": "code",
      "execution_count": null,
      "metadata": {
        "id": "RE1K-89-6e-4"
      },
      "outputs": [],
      "source": [
        "rf_model = RandomForestRegressor()"
      ]
    },
    {
      "cell_type": "markdown",
      "metadata": {
        "id": "Z__-JwQm6e-4"
      },
      "source": [
        "# Feature selection using extra tree regressor"
      ]
    },
    {
      "cell_type": "code",
      "execution_count": null,
      "metadata": {
        "id": "mEyv1PGO6e-4",
        "outputId": "4c082669-b0c8-4469-9ab8-ca487f368a95"
      },
      "outputs": [
        {
          "data": {
            "text/plain": [
              "ExtraTreesRegressor()"
            ]
          },
          "execution_count": 49,
          "metadata": {},
          "output_type": "execute_result"
        }
      ],
      "source": [
        "reg = ExtraTreesRegressor()\n",
        "reg.fit(X_train, y_train)"
      ]
    },
    {
      "cell_type": "code",
      "execution_count": null,
      "metadata": {
        "id": "fiQRUW5s6e-5"
      },
      "outputs": [],
      "source": [
        "#finding imp features\n",
        "feat_importances = pd.Series(reg.feature_importances_, index = X_train.columns)"
      ]
    },
    {
      "cell_type": "code",
      "execution_count": null,
      "metadata": {
        "id": "7RIjtsWn6e-5",
        "outputId": "7079a394-88aa-4642-9875-d11d3735de3e"
      },
      "outputs": [
        {
          "data": {
            "text/plain": [
              "Index(['Airbags', 'Mileage', 'Prod. year', 'ID', 'Gear box type_Tiptronic',\n",
              "       'Levy', 'Leather interior_Yes', 'Manufacturer_HYUNDAI',\n",
              "       'Fuel type_Hybrid', 'Engine volume', 'Fuel type_Diesel', 'Color_White',\n",
              "       'Drive wheels_Front', 'Color_Black', 'Model_FIT', 'Color_Grey',\n",
              "       'Color_Silver', 'Cylinders', 'Wheel_Right-hand drive',\n",
              "       'Manufacturer_SSANGYONG', 'Category_Sedan', 'Gear box type_Variator',\n",
              "       'Manufacturer_TOYOTA', 'Category_Jeep', 'Fuel type_Petrol',\n",
              "       'Drive wheels_Rear', 'Color_Blue', 'Model_Prius', 'Category_Hatchback',\n",
              "       'Manufacturer_LEXUS'],\n",
              "      dtype='object')"
            ]
          },
          "execution_count": 51,
          "metadata": {},
          "output_type": "execute_result"
        }
      ],
      "source": [
        "pd.DataFrame(feat_importances.nlargest(30)).index"
      ]
    },
    {
      "cell_type": "code",
      "execution_count": null,
      "metadata": {
        "id": "bJrb68E16e-5"
      },
      "outputs": [],
      "source": [
        "#instantiating the randomforest regressor using the best parameter\n",
        "mod4 = RandomForestRegressor(n_estimators = 1000, max_depth = 25,\n",
        "    max_features = \"sqrt\",\n",
        "    min_samples_leaf = 1, \n",
        "    min_samples_split = 2)"
      ]
    },
    {
      "cell_type": "code",
      "execution_count": null,
      "metadata": {
        "id": "dDb_RiS26e-6"
      },
      "outputs": [],
      "source": [
        "X1 = train_data[['Airbags', 'Mileage', 'Prod. year', 'ID', 'Gear box type_Tiptronic',\n",
        "       'Leather interior_Yes', 'Levy', 'Manufacturer_HYUNDAI',\n",
        "       'Fuel type_Hybrid', 'Fuel type_Diesel', 'Engine volume', 'Color_White',\n",
        "       'Color_Black', 'Drive wheels_Front', 'Model_FIT', 'Color_Grey',\n",
        "       'Color_Silver', 'Cylinders', 'Wheel_Right-hand drive',\n",
        "       'Manufacturer_SSANGYONG', 'Category_Sedan', 'Gear box type_Variator',\n",
        "       'Category_Jeep', 'Manufacturer_TOYOTA', 'Drive wheels_Rear',\n",
        "       'Fuel type_Petrol', 'Color_Blue', 'Model_Prius']]\n",
        "y1 = y\n",
        "\n",
        "X1_train, X1_test, y1_train, y1_test =train_test_split(X1,y1, test_size = 0.3, random_state = 10)"
      ]
    },
    {
      "cell_type": "code",
      "execution_count": null,
      "metadata": {
        "id": "3rSuTjRM6e-6"
      },
      "outputs": [],
      "source": [
        "#fit the model\n",
        "model5 = mod4.fit(X1_train, y1_train)"
      ]
    },
    {
      "cell_type": "code",
      "execution_count": null,
      "metadata": {
        "id": "S15PvSxz6e-7"
      },
      "outputs": [],
      "source": [
        "#predicting the data\n",
        "y_predict = model5.predict(X1_test)"
      ]
    },
    {
      "cell_type": "code",
      "execution_count": null,
      "metadata": {
        "id": "5825CsR26e-7"
      },
      "outputs": [],
      "source": [
        "#cal the RMLSE score\n",
        "RMLSE = np.sqrt(mean_squared_log_error(np.exp(y1_test), np.exp(y_predict)))"
      ]
    },
    {
      "cell_type": "code",
      "execution_count": null,
      "metadata": {
        "id": "FrYNrrjA6e-8",
        "outputId": "bb11bf28-1d5e-45aa-cabb-42187e9e05ae"
      },
      "outputs": [
        {
          "data": {
            "text/plain": [
              "0.8435238220985561"
            ]
          },
          "execution_count": 57,
          "metadata": {},
          "output_type": "execute_result"
        }
      ],
      "source": [
        "RMLSE"
      ]
    },
    {
      "cell_type": "code",
      "execution_count": null,
      "metadata": {
        "id": "kFMzczq76e-8",
        "outputId": "05731a12-0cb3-4a43-921c-ffc29a77a56b"
      },
      "outputs": [
        {
          "data": {
            "text/plain": [
              "XGBRegressor(base_score=0.5, booster='gbtree', callbacks=None,\n",
              "             colsample_bylevel=1, colsample_bynode=1, colsample_bytree=1,\n",
              "             early_stopping_rounds=None, enable_categorical=False,\n",
              "             eval_metric=None, gamma=0, gpu_id=-1, grow_policy='depthwise',\n",
              "             importance_type=None, interaction_constraints='',\n",
              "             learning_rate=0.2, max_bin=256, max_cat_to_onehot=4,\n",
              "             max_delta_step=0, max_depth=7, max_leaves=0, min_child_weight=1,\n",
              "             missing=nan, monotone_constraints='()', n_estimators=1500,\n",
              "             n_jobs=0, num_parallel_tree=1, predictor='auto', random_state=123,\n",
              "             reg_alpha=0, reg_lambda=1, ...)"
            ]
          },
          "execution_count": 58,
          "metadata": {},
          "output_type": "execute_result"
        }
      ],
      "source": [
        "xgb = XGBRegressor(random_state = 123, max_depth = 7, learning_rate = 0.2, n_estimators = 1500)\n",
        "xgb.fit(X1_train, y1_train)"
      ]
    },
    {
      "cell_type": "code",
      "execution_count": null,
      "metadata": {
        "id": "b6gqRy286e-9"
      },
      "outputs": [],
      "source": [
        "#predicting data\n",
        "y_predict = xgb.predict(X1_test)"
      ]
    },
    {
      "cell_type": "code",
      "execution_count": null,
      "metadata": {
        "id": "Ac0MN7UD6e-9"
      },
      "outputs": [],
      "source": [
        "import statsmodels.api as sm\n",
        "#build a full model using OLS()\n",
        "linreg_full_model = sm.OLS(y1_train, X1_train).fit()"
      ]
    },
    {
      "cell_type": "code",
      "execution_count": null,
      "metadata": {
        "id": "pBbXgDnO6e--",
        "outputId": "22181ff3-7d34-4c0a-fab3-1229846b6fab"
      },
      "outputs": [
        {
          "data": {
            "text/html": [
              "<table class=\"simpletable\">\n",
              "<caption>OLS Regression Results</caption>\n",
              "<tr>\n",
              "  <th>Dep. Variable:</th>          <td>Price</td>      <th>  R-squared (uncentered):</th>      <td>   0.976</td> \n",
              "</tr>\n",
              "<tr>\n",
              "  <th>Model:</th>                   <td>OLS</td>       <th>  Adj. R-squared (uncentered):</th> <td>   0.976</td> \n",
              "</tr>\n",
              "<tr>\n",
              "  <th>Method:</th>             <td>Least Squares</td>  <th>  F-statistic:       </th>          <td>1.943e+04</td>\n",
              "</tr>\n",
              "<tr>\n",
              "  <th>Date:</th>             <td>Mon, 11 Jul 2022</td> <th>  Prob (F-statistic):</th>           <td>  0.00</td>  \n",
              "</tr>\n",
              "<tr>\n",
              "  <th>Time:</th>                 <td>22:33:10</td>     <th>  Log-Likelihood:    </th>          <td> -23857.</td> \n",
              "</tr>\n",
              "<tr>\n",
              "  <th>No. Observations:</th>      <td> 13465</td>      <th>  AIC:               </th>          <td>4.777e+04</td>\n",
              "</tr>\n",
              "<tr>\n",
              "  <th>Df Residuals:</th>          <td> 13437</td>      <th>  BIC:               </th>          <td>4.798e+04</td>\n",
              "</tr>\n",
              "<tr>\n",
              "  <th>Df Model:</th>              <td>    28</td>      <th>                     </th>              <td> </td>    \n",
              "</tr>\n",
              "<tr>\n",
              "  <th>Covariance Type:</th>      <td>nonrobust</td>    <th>                     </th>              <td> </td>    \n",
              "</tr>\n",
              "</table>\n",
              "<table class=\"simpletable\">\n",
              "<tr>\n",
              "             <td></td>                <th>coef</th>     <th>std err</th>      <th>t</th>      <th>P>|t|</th>  <th>[0.025</th>    <th>0.975]</th>  \n",
              "</tr>\n",
              "<tr>\n",
              "  <th>Airbags</th>                 <td>   -0.0495</td> <td>    0.003</td> <td>  -14.861</td> <td> 0.000</td> <td>   -0.056</td> <td>   -0.043</td>\n",
              "</tr>\n",
              "<tr>\n",
              "  <th>Mileage</th>                 <td>-4.469e-10</td> <td>  2.4e-10</td> <td>   -1.865</td> <td> 0.062</td> <td>-9.17e-10</td> <td> 2.27e-11</td>\n",
              "</tr>\n",
              "<tr>\n",
              "  <th>Prod. year</th>              <td>   -0.0551</td> <td>    0.003</td> <td>  -20.378</td> <td> 0.000</td> <td>   -0.060</td> <td>   -0.050</td>\n",
              "</tr>\n",
              "<tr>\n",
              "  <th>ID</th>                      <td> 2.175e-07</td> <td> 2.39e-09</td> <td>   90.948</td> <td> 0.000</td> <td> 2.13e-07</td> <td> 2.22e-07</td>\n",
              "</tr>\n",
              "<tr>\n",
              "  <th>Gear box type_Tiptronic</th> <td>    1.1974</td> <td>    0.037</td> <td>   32.761</td> <td> 0.000</td> <td>    1.126</td> <td>    1.269</td>\n",
              "</tr>\n",
              "<tr>\n",
              "  <th>Leather interior_Yes</th>    <td>   -0.4452</td> <td>    0.034</td> <td>  -12.951</td> <td> 0.000</td> <td>   -0.513</td> <td>   -0.378</td>\n",
              "</tr>\n",
              "<tr>\n",
              "  <th>Levy</th>                    <td>   -0.0002</td> <td> 3.67e-05</td> <td>   -6.286</td> <td> 0.000</td> <td>   -0.000</td> <td>   -0.000</td>\n",
              "</tr>\n",
              "<tr>\n",
              "  <th>Manufacturer_HYUNDAI</th>    <td>    0.4906</td> <td>    0.039</td> <td>   12.498</td> <td> 0.000</td> <td>    0.414</td> <td>    0.568</td>\n",
              "</tr>\n",
              "<tr>\n",
              "  <th>Fuel type_Hybrid</th>        <td>   -0.7567</td> <td>    0.060</td> <td>  -12.626</td> <td> 0.000</td> <td>   -0.874</td> <td>   -0.639</td>\n",
              "</tr>\n",
              "<tr>\n",
              "  <th>Fuel type_Diesel</th>        <td>    0.3163</td> <td>    0.055</td> <td>    5.716</td> <td> 0.000</td> <td>    0.208</td> <td>    0.425</td>\n",
              "</tr>\n",
              "<tr>\n",
              "  <th>Engine volume</th>           <td>    0.0767</td> <td>    0.028</td> <td>    2.733</td> <td> 0.006</td> <td>    0.022</td> <td>    0.132</td>\n",
              "</tr>\n",
              "<tr>\n",
              "  <th>Color_White</th>             <td>   -0.1055</td> <td>    0.046</td> <td>   -2.305</td> <td> 0.021</td> <td>   -0.195</td> <td>   -0.016</td>\n",
              "</tr>\n",
              "<tr>\n",
              "  <th>Color_Black</th>             <td>   -0.0709</td> <td>    0.046</td> <td>   -1.557</td> <td> 0.120</td> <td>   -0.160</td> <td>    0.018</td>\n",
              "</tr>\n",
              "<tr>\n",
              "  <th>Drive wheels_Front</th>      <td>    0.2701</td> <td>    0.044</td> <td>    6.203</td> <td> 0.000</td> <td>    0.185</td> <td>    0.355</td>\n",
              "</tr>\n",
              "<tr>\n",
              "  <th>Model_FIT</th>               <td>   -0.5381</td> <td>    0.089</td> <td>   -6.062</td> <td> 0.000</td> <td>   -0.712</td> <td>   -0.364</td>\n",
              "</tr>\n",
              "<tr>\n",
              "  <th>Color_Grey</th>              <td>   -0.0843</td> <td>    0.052</td> <td>   -1.629</td> <td> 0.103</td> <td>   -0.186</td> <td>    0.017</td>\n",
              "</tr>\n",
              "<tr>\n",
              "  <th>Color_Silver</th>            <td>   -0.0527</td> <td>    0.047</td> <td>   -1.130</td> <td> 0.258</td> <td>   -0.144</td> <td>    0.039</td>\n",
              "</tr>\n",
              "<tr>\n",
              "  <th>Cylinders</th>               <td>    0.0324</td> <td>    0.018</td> <td>    1.786</td> <td> 0.074</td> <td>   -0.003</td> <td>    0.068</td>\n",
              "</tr>\n",
              "<tr>\n",
              "  <th>Wheel_Right-hand drive</th>  <td>   -0.4161</td> <td>    0.056</td> <td>   -7.482</td> <td> 0.000</td> <td>   -0.525</td> <td>   -0.307</td>\n",
              "</tr>\n",
              "<tr>\n",
              "  <th>Manufacturer_SSANGYONG</th>  <td>    0.8453</td> <td>    0.090</td> <td>    9.402</td> <td> 0.000</td> <td>    0.669</td> <td>    1.022</td>\n",
              "</tr>\n",
              "<tr>\n",
              "  <th>Category_Sedan</th>          <td>   -0.2556</td> <td>    0.034</td> <td>   -7.515</td> <td> 0.000</td> <td>   -0.322</td> <td>   -0.189</td>\n",
              "</tr>\n",
              "<tr>\n",
              "  <th>Gear box type_Variator</th>  <td>    0.9088</td> <td>    0.068</td> <td>   13.333</td> <td> 0.000</td> <td>    0.775</td> <td>    1.042</td>\n",
              "</tr>\n",
              "<tr>\n",
              "  <th>Category_Jeep</th>           <td>    0.0470</td> <td>    0.042</td> <td>    1.122</td> <td> 0.262</td> <td>   -0.035</td> <td>    0.129</td>\n",
              "</tr>\n",
              "<tr>\n",
              "  <th>Manufacturer_TOYOTA</th>     <td>    0.3222</td> <td>    0.042</td> <td>    7.709</td> <td> 0.000</td> <td>    0.240</td> <td>    0.404</td>\n",
              "</tr>\n",
              "<tr>\n",
              "  <th>Drive wheels_Rear</th>       <td>    0.4001</td> <td>    0.051</td> <td>    7.789</td> <td> 0.000</td> <td>    0.299</td> <td>    0.501</td>\n",
              "</tr>\n",
              "<tr>\n",
              "  <th>Fuel type_Petrol</th>        <td>   -0.1701</td> <td>    0.050</td> <td>   -3.406</td> <td> 0.001</td> <td>   -0.268</td> <td>   -0.072</td>\n",
              "</tr>\n",
              "<tr>\n",
              "  <th>Color_Blue</th>              <td>   -0.0808</td> <td>    0.058</td> <td>   -1.382</td> <td> 0.167</td> <td>   -0.195</td> <td>    0.034</td>\n",
              "</tr>\n",
              "<tr>\n",
              "  <th>Model_Prius</th>             <td>   -0.2269</td> <td>    0.066</td> <td>   -3.419</td> <td> 0.001</td> <td>   -0.357</td> <td>   -0.097</td>\n",
              "</tr>\n",
              "</table>\n",
              "<table class=\"simpletable\">\n",
              "<tr>\n",
              "  <th>Omnibus:</th>       <td>3106.893</td> <th>  Durbin-Watson:     </th> <td>   1.992</td>\n",
              "</tr>\n",
              "<tr>\n",
              "  <th>Prob(Omnibus):</th>  <td> 0.000</td>  <th>  Jarque-Bera (JB):  </th> <td>8361.615</td>\n",
              "</tr>\n",
              "<tr>\n",
              "  <th>Skew:</th>           <td>-1.235</td>  <th>  Prob(JB):          </th> <td>    0.00</td>\n",
              "</tr>\n",
              "<tr>\n",
              "  <th>Kurtosis:</th>       <td> 5.967</td>  <th>  Cond. No.          </th> <td>3.94e+08</td>\n",
              "</tr>\n",
              "</table><br/><br/>Warnings:<br/>[1] Standard Errors assume that the covariance matrix of the errors is correctly specified.<br/>[2] The condition number is large, 3.94e+08. This might indicate that there are<br/>strong multicollinearity or other numerical problems."
            ],
            "text/plain": [
              "<class 'statsmodels.iolib.summary.Summary'>\n",
              "\"\"\"\n",
              "                                 OLS Regression Results                                \n",
              "=======================================================================================\n",
              "Dep. Variable:                  Price   R-squared (uncentered):                   0.976\n",
              "Model:                            OLS   Adj. R-squared (uncentered):              0.976\n",
              "Method:                 Least Squares   F-statistic:                          1.943e+04\n",
              "Date:                Mon, 11 Jul 2022   Prob (F-statistic):                        0.00\n",
              "Time:                        22:33:10   Log-Likelihood:                         -23857.\n",
              "No. Observations:               13465   AIC:                                  4.777e+04\n",
              "Df Residuals:                   13437   BIC:                                  4.798e+04\n",
              "Df Model:                          28                                                  \n",
              "Covariance Type:            nonrobust                                                  \n",
              "===========================================================================================\n",
              "                              coef    std err          t      P>|t|      [0.025      0.975]\n",
              "-------------------------------------------------------------------------------------------\n",
              "Airbags                    -0.0495      0.003    -14.861      0.000      -0.056      -0.043\n",
              "Mileage                 -4.469e-10    2.4e-10     -1.865      0.062   -9.17e-10    2.27e-11\n",
              "Prod. year                 -0.0551      0.003    -20.378      0.000      -0.060      -0.050\n",
              "ID                       2.175e-07   2.39e-09     90.948      0.000    2.13e-07    2.22e-07\n",
              "Gear box type_Tiptronic     1.1974      0.037     32.761      0.000       1.126       1.269\n",
              "Leather interior_Yes       -0.4452      0.034    -12.951      0.000      -0.513      -0.378\n",
              "Levy                       -0.0002   3.67e-05     -6.286      0.000      -0.000      -0.000\n",
              "Manufacturer_HYUNDAI        0.4906      0.039     12.498      0.000       0.414       0.568\n",
              "Fuel type_Hybrid           -0.7567      0.060    -12.626      0.000      -0.874      -0.639\n",
              "Fuel type_Diesel            0.3163      0.055      5.716      0.000       0.208       0.425\n",
              "Engine volume               0.0767      0.028      2.733      0.006       0.022       0.132\n",
              "Color_White                -0.1055      0.046     -2.305      0.021      -0.195      -0.016\n",
              "Color_Black                -0.0709      0.046     -1.557      0.120      -0.160       0.018\n",
              "Drive wheels_Front          0.2701      0.044      6.203      0.000       0.185       0.355\n",
              "Model_FIT                  -0.5381      0.089     -6.062      0.000      -0.712      -0.364\n",
              "Color_Grey                 -0.0843      0.052     -1.629      0.103      -0.186       0.017\n",
              "Color_Silver               -0.0527      0.047     -1.130      0.258      -0.144       0.039\n",
              "Cylinders                   0.0324      0.018      1.786      0.074      -0.003       0.068\n",
              "Wheel_Right-hand drive     -0.4161      0.056     -7.482      0.000      -0.525      -0.307\n",
              "Manufacturer_SSANGYONG      0.8453      0.090      9.402      0.000       0.669       1.022\n",
              "Category_Sedan             -0.2556      0.034     -7.515      0.000      -0.322      -0.189\n",
              "Gear box type_Variator      0.9088      0.068     13.333      0.000       0.775       1.042\n",
              "Category_Jeep               0.0470      0.042      1.122      0.262      -0.035       0.129\n",
              "Manufacturer_TOYOTA         0.3222      0.042      7.709      0.000       0.240       0.404\n",
              "Drive wheels_Rear           0.4001      0.051      7.789      0.000       0.299       0.501\n",
              "Fuel type_Petrol           -0.1701      0.050     -3.406      0.001      -0.268      -0.072\n",
              "Color_Blue                 -0.0808      0.058     -1.382      0.167      -0.195       0.034\n",
              "Model_Prius                -0.2269      0.066     -3.419      0.001      -0.357      -0.097\n",
              "==============================================================================\n",
              "Omnibus:                     3106.893   Durbin-Watson:                   1.992\n",
              "Prob(Omnibus):                  0.000   Jarque-Bera (JB):             8361.615\n",
              "Skew:                          -1.235   Prob(JB):                         0.00\n",
              "Kurtosis:                       5.967   Cond. No.                     3.94e+08\n",
              "==============================================================================\n",
              "\n",
              "Warnings:\n",
              "[1] Standard Errors assume that the covariance matrix of the errors is correctly specified.\n",
              "[2] The condition number is large, 3.94e+08. This might indicate that there are\n",
              "strong multicollinearity or other numerical problems.\n",
              "\"\"\""
            ]
          },
          "execution_count": 61,
          "metadata": {},
          "output_type": "execute_result"
        }
      ],
      "source": [
        "linreg_full_model.summary()"
      ]
    },
    {
      "cell_type": "code",
      "execution_count": null,
      "metadata": {
        "id": "5oLh90_R6e--"
      },
      "outputs": [],
      "source": []
    }
  ],
  "metadata": {
    "kernelspec": {
      "display_name": "Python 3",
      "language": "python",
      "name": "python3"
    },
    "language_info": {
      "codemirror_mode": {
        "name": "ipython",
        "version": 3
      },
      "file_extension": ".py",
      "mimetype": "text/x-python",
      "name": "python",
      "nbconvert_exporter": "python",
      "pygments_lexer": "ipython3",
      "version": "3.8.3"
    },
    "colab": {
      "provenance": [],
      "include_colab_link": true
    }
  },
  "nbformat": 4,
  "nbformat_minor": 0
}